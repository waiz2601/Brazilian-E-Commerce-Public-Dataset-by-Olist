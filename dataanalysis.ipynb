{
 "cells": [
  {
   "cell_type": "code",
   "execution_count": 1,
   "metadata": {},
   "outputs": [],
   "source": [
    "import numpy as np \n",
    "import pandas as pd \n",
    "import matplotlib.pyplot as plt\n",
    "import seaborn as sns\n"
   ]
  },
  {
   "cell_type": "markdown",
   "metadata": {},
   "source": [
    "Loading the Dataset"
   ]
  },
  {
   "cell_type": "code",
   "execution_count": 7,
   "metadata": {},
   "outputs": [],
   "source": [
    "customer_dataset=pd.read_csv('./dataset/olist_customers_dataset.csv')\n",
    "geolocation_dataset=pd.read_csv('./dataset/olist_geolocation_dataset.csv')\n",
    "order_items_dataset=pd.read_csv('./dataset/olist_order_items_dataset.csv')\n",
    "orders_payments_dataset=pd.read_csv('./dataset/olist_order_payments_dataset.csv')\n",
    "orders_reviews_dataset=pd.read_csv('./dataset/olist_order_reviews_dataset.csv')\n",
    "olist_orders_dataset=pd.read_csv('./dataset/olist_orders_dataset.csv')\n",
    "olist_product_dataset=pd.read_csv('./dataset/olist_products_dataset.csv')\n",
    "olist_sellers_dataset=pd.read_csv('./dataset/olist_sellers_dataset.csv')\n",
    "product_category_dataset=pd.read_csv('./dataset/product_category_name_translation.csv')\n"
   ]
  },
  {
   "cell_type": "markdown",
   "metadata": {},
   "source": [
    "**Assessing Data**"
   ]
  },
  {
   "cell_type": "markdown",
   "metadata": {},
   "source": [
    "Assess the customers table"
   ]
  },
  {
   "cell_type": "code",
   "execution_count": 11,
   "metadata": {},
   "outputs": [
    {
     "name": "stdout",
     "output_type": "stream",
     "text": [
      "<class 'pandas.core.frame.DataFrame'>\n",
      "RangeIndex: 99441 entries, 0 to 99440\n",
      "Data columns (total 5 columns):\n",
      " #   Column                    Non-Null Count  Dtype \n",
      "---  ------                    --------------  ----- \n",
      " 0   customer_id               99441 non-null  object\n",
      " 1   customer_unique_id        99441 non-null  object\n",
      " 2   customer_zip_code_prefix  99441 non-null  int64 \n",
      " 3   customer_city             99441 non-null  object\n",
      " 4   customer_state            99441 non-null  object\n",
      "dtypes: int64(1), object(4)\n",
      "memory usage: 3.8+ MB\n"
     ]
    }
   ],
   "source": [
    "#checking the summary of the dataset and its columns \n",
    "customer_dataset.info()\n"
   ]
  },
  {
   "cell_type": "code",
   "execution_count": 12,
   "metadata": {},
   "outputs": [
    {
     "data": {
      "text/plain": [
       "customer_id                 0\n",
       "customer_unique_id          0\n",
       "customer_zip_code_prefix    0\n",
       "customer_city               0\n",
       "customer_state              0\n",
       "dtype: int64"
      ]
     },
     "execution_count": 12,
     "metadata": {},
     "output_type": "execute_result"
    }
   ],
   "source": [
    "#check the missing value in the table customers \n",
    "customer_dataset.isnull().sum()"
   ]
  },
  {
   "cell_type": "code",
   "execution_count": 13,
   "metadata": {},
   "outputs": [
    {
     "name": "stdout",
     "output_type": "stream",
     "text": [
      "Total duplicate value 0\n"
     ]
    }
   ],
   "source": [
    "#checking the duplicate value in the table customer_dataset\n",
    "duplicate_value=customer_dataset.duplicated()\n",
    "print(f\"Total duplicate value\",duplicate_value.sum())"
   ]
  },
  {
   "cell_type": "code",
   "execution_count": 14,
   "metadata": {},
   "outputs": [
    {
     "data": {
      "text/html": [
       "<div>\n",
       "<style scoped>\n",
       "    .dataframe tbody tr th:only-of-type {\n",
       "        vertical-align: middle;\n",
       "    }\n",
       "\n",
       "    .dataframe tbody tr th {\n",
       "        vertical-align: top;\n",
       "    }\n",
       "\n",
       "    .dataframe thead th {\n",
       "        text-align: right;\n",
       "    }\n",
       "</style>\n",
       "<table border=\"1\" class=\"dataframe\">\n",
       "  <thead>\n",
       "    <tr style=\"text-align: right;\">\n",
       "      <th></th>\n",
       "      <th>customer_zip_code_prefix</th>\n",
       "    </tr>\n",
       "  </thead>\n",
       "  <tbody>\n",
       "    <tr>\n",
       "      <th>count</th>\n",
       "      <td>99441.000000</td>\n",
       "    </tr>\n",
       "    <tr>\n",
       "      <th>mean</th>\n",
       "      <td>35137.474583</td>\n",
       "    </tr>\n",
       "    <tr>\n",
       "      <th>std</th>\n",
       "      <td>29797.938996</td>\n",
       "    </tr>\n",
       "    <tr>\n",
       "      <th>min</th>\n",
       "      <td>1003.000000</td>\n",
       "    </tr>\n",
       "    <tr>\n",
       "      <th>25%</th>\n",
       "      <td>11347.000000</td>\n",
       "    </tr>\n",
       "    <tr>\n",
       "      <th>50%</th>\n",
       "      <td>24416.000000</td>\n",
       "    </tr>\n",
       "    <tr>\n",
       "      <th>75%</th>\n",
       "      <td>58900.000000</td>\n",
       "    </tr>\n",
       "    <tr>\n",
       "      <th>max</th>\n",
       "      <td>99990.000000</td>\n",
       "    </tr>\n",
       "  </tbody>\n",
       "</table>\n",
       "</div>"
      ],
      "text/plain": [
       "       customer_zip_code_prefix\n",
       "count              99441.000000\n",
       "mean               35137.474583\n",
       "std                29797.938996\n",
       "min                 1003.000000\n",
       "25%                11347.000000\n",
       "50%                24416.000000\n",
       "75%                58900.000000\n",
       "max                99990.000000"
      ]
     },
     "execution_count": 14,
     "metadata": {},
     "output_type": "execute_result"
    }
   ],
   "source": [
    "customer_dataset.describe()"
   ]
  },
  {
   "cell_type": "markdown",
   "metadata": {},
   "source": [
    "**ASSESS THE ORDER TABLE**\n"
   ]
  },
  {
   "cell_type": "code",
   "execution_count": 16,
   "metadata": {},
   "outputs": [
    {
     "name": "stdout",
     "output_type": "stream",
     "text": [
      "<class 'pandas.core.frame.DataFrame'>\n",
      "RangeIndex: 99441 entries, 0 to 99440\n",
      "Data columns (total 8 columns):\n",
      " #   Column                         Non-Null Count  Dtype \n",
      "---  ------                         --------------  ----- \n",
      " 0   order_id                       99441 non-null  object\n",
      " 1   customer_id                    99441 non-null  object\n",
      " 2   order_status                   99441 non-null  object\n",
      " 3   order_purchase_timestamp       99441 non-null  object\n",
      " 4   order_approved_at              99281 non-null  object\n",
      " 5   order_delivered_carrier_date   97658 non-null  object\n",
      " 6   order_delivered_customer_date  96476 non-null  object\n",
      " 7   order_estimated_delivery_date  99441 non-null  object\n",
      "dtypes: object(8)\n",
      "memory usage: 6.1+ MB\n"
     ]
    }
   ],
   "source": [
    "olist_orders_dataset.info()"
   ]
  },
  {
   "cell_type": "code",
   "execution_count": 17,
   "metadata": {},
   "outputs": [
    {
     "data": {
      "text/plain": [
       "order_id                            0\n",
       "customer_id                         0\n",
       "order_status                        0\n",
       "order_purchase_timestamp            0\n",
       "order_approved_at                 160\n",
       "order_delivered_carrier_date     1783\n",
       "order_delivered_customer_date    2965\n",
       "order_estimated_delivery_date       0\n",
       "dtype: int64"
      ]
     },
     "execution_count": 17,
     "metadata": {},
     "output_type": "execute_result"
    }
   ],
   "source": [
    "#checking the missing value in the table olist_orders_dataset\n",
    "olist_orders_dataset.isnull().sum()"
   ]
  },
  {
   "cell_type": "code",
   "execution_count": 18,
   "metadata": {},
   "outputs": [
    {
     "name": "stdout",
     "output_type": "stream",
     "text": [
      "Total duplicate value 0\n"
     ]
    }
   ],
   "source": [
    "#check for the duplicate value in the table olist_orders_dataset\n",
    "duplicate_value=olist_orders_dataset.duplicated()\n",
    "print(f\"Total duplicate value\",duplicate_value.sum())"
   ]
  },
  {
   "cell_type": "markdown",
   "metadata": {},
   "source": [
    "**ASSESS THE ORDER_ITEMS TABLE**"
   ]
  },
  {
   "cell_type": "code",
   "execution_count": 19,
   "metadata": {},
   "outputs": [
    {
     "name": "stdout",
     "output_type": "stream",
     "text": [
      "<class 'pandas.core.frame.DataFrame'>\n",
      "RangeIndex: 112650 entries, 0 to 112649\n",
      "Data columns (total 7 columns):\n",
      " #   Column               Non-Null Count   Dtype  \n",
      "---  ------               --------------   -----  \n",
      " 0   order_id             112650 non-null  object \n",
      " 1   order_item_id        112650 non-null  int64  \n",
      " 2   product_id           112650 non-null  object \n",
      " 3   seller_id            112650 non-null  object \n",
      " 4   shipping_limit_date  112650 non-null  object \n",
      " 5   price                112650 non-null  float64\n",
      " 6   freight_value        112650 non-null  float64\n",
      "dtypes: float64(2), int64(1), object(4)\n",
      "memory usage: 6.0+ MB\n"
     ]
    }
   ],
   "source": [
    "order_items_dataset.info()"
   ]
  },
  {
   "cell_type": "code",
   "execution_count": 20,
   "metadata": {},
   "outputs": [
    {
     "data": {
      "text/plain": [
       "order_id               0\n",
       "order_item_id          0\n",
       "product_id             0\n",
       "seller_id              0\n",
       "shipping_limit_date    0\n",
       "price                  0\n",
       "freight_value          0\n",
       "dtype: int64"
      ]
     },
     "execution_count": 20,
     "metadata": {},
     "output_type": "execute_result"
    }
   ],
   "source": [
    "order_items_dataset.isnull().sum()"
   ]
  },
  {
   "cell_type": "code",
   "execution_count": 21,
   "metadata": {},
   "outputs": [
    {
     "name": "stdout",
     "output_type": "stream",
     "text": [
      "Total duplicate value 0\n"
     ]
    }
   ],
   "source": [
    "duplicate_value=order_items_dataset.duplicated()\n",
    "print(f\"Total duplicate value\",duplicate_value.sum())"
   ]
  },
  {
   "cell_type": "code",
   "execution_count": 23,
   "metadata": {},
   "outputs": [
    {
     "name": "stdout",
     "output_type": "stream",
     "text": [
      "Total duplicate value in the order lines 10225\n"
     ]
    }
   ],
   "source": [
    "#check the duplicate value in the order lines \n",
    "order_lines_duplicate=order_items_dataset.duplicated(subset=['order_id','product_id']).sum()\n",
    "print(f\"Total duplicate value in the order lines\",order_lines_duplicate)"
   ]
  },
  {
   "cell_type": "code",
   "execution_count": 24,
   "metadata": {},
   "outputs": [
    {
     "data": {
      "text/html": [
       "<div>\n",
       "<style scoped>\n",
       "    .dataframe tbody tr th:only-of-type {\n",
       "        vertical-align: middle;\n",
       "    }\n",
       "\n",
       "    .dataframe tbody tr th {\n",
       "        vertical-align: top;\n",
       "    }\n",
       "\n",
       "    .dataframe thead th {\n",
       "        text-align: right;\n",
       "    }\n",
       "</style>\n",
       "<table border=\"1\" class=\"dataframe\">\n",
       "  <thead>\n",
       "    <tr style=\"text-align: right;\">\n",
       "      <th></th>\n",
       "      <th>order_item_id</th>\n",
       "      <th>price</th>\n",
       "      <th>freight_value</th>\n",
       "    </tr>\n",
       "  </thead>\n",
       "  <tbody>\n",
       "    <tr>\n",
       "      <th>count</th>\n",
       "      <td>112650.000000</td>\n",
       "      <td>112650.000000</td>\n",
       "      <td>112650.000000</td>\n",
       "    </tr>\n",
       "    <tr>\n",
       "      <th>mean</th>\n",
       "      <td>1.197834</td>\n",
       "      <td>120.653739</td>\n",
       "      <td>19.990320</td>\n",
       "    </tr>\n",
       "    <tr>\n",
       "      <th>std</th>\n",
       "      <td>0.705124</td>\n",
       "      <td>183.633928</td>\n",
       "      <td>15.806405</td>\n",
       "    </tr>\n",
       "    <tr>\n",
       "      <th>min</th>\n",
       "      <td>1.000000</td>\n",
       "      <td>0.850000</td>\n",
       "      <td>0.000000</td>\n",
       "    </tr>\n",
       "    <tr>\n",
       "      <th>25%</th>\n",
       "      <td>1.000000</td>\n",
       "      <td>39.900000</td>\n",
       "      <td>13.080000</td>\n",
       "    </tr>\n",
       "    <tr>\n",
       "      <th>50%</th>\n",
       "      <td>1.000000</td>\n",
       "      <td>74.990000</td>\n",
       "      <td>16.260000</td>\n",
       "    </tr>\n",
       "    <tr>\n",
       "      <th>75%</th>\n",
       "      <td>1.000000</td>\n",
       "      <td>134.900000</td>\n",
       "      <td>21.150000</td>\n",
       "    </tr>\n",
       "    <tr>\n",
       "      <th>max</th>\n",
       "      <td>21.000000</td>\n",
       "      <td>6735.000000</td>\n",
       "      <td>409.680000</td>\n",
       "    </tr>\n",
       "  </tbody>\n",
       "</table>\n",
       "</div>"
      ],
      "text/plain": [
       "       order_item_id          price  freight_value\n",
       "count  112650.000000  112650.000000  112650.000000\n",
       "mean        1.197834     120.653739      19.990320\n",
       "std         0.705124     183.633928      15.806405\n",
       "min         1.000000       0.850000       0.000000\n",
       "25%         1.000000      39.900000      13.080000\n",
       "50%         1.000000      74.990000      16.260000\n",
       "75%         1.000000     134.900000      21.150000\n",
       "max        21.000000    6735.000000     409.680000"
      ]
     },
     "execution_count": 24,
     "metadata": {},
     "output_type": "execute_result"
    }
   ],
   "source": [
    "order_items_dataset.describe()"
   ]
  },
  {
   "cell_type": "code",
   "execution_count": 43,
   "metadata": {},
   "outputs": [
    {
     "name": "stdout",
     "output_type": "stream",
     "text": [
      "order_id               a77e1550db865202c56b19ddc6dc4d53\n",
      "order_item_id                                         1\n",
      "product_id             ec31d2a17b299511e7c8627be9337b9b\n",
      "seller_id              257e61d3251fb5efb9daadddbc2cf7ca\n",
      "shipping_limit_date                 2018-04-25 06:55:13\n",
      "price                                             979.0\n",
      "freight_value                                    409.68\n",
      "Name: 73486, dtype: object\n"
     ]
    },
    {
     "data": {
      "text/html": [
       "<div>\n",
       "<style scoped>\n",
       "    .dataframe tbody tr th:only-of-type {\n",
       "        vertical-align: middle;\n",
       "    }\n",
       "\n",
       "    .dataframe tbody tr th {\n",
       "        vertical-align: top;\n",
       "    }\n",
       "\n",
       "    .dataframe thead th {\n",
       "        text-align: right;\n",
       "    }\n",
       "</style>\n",
       "<table border=\"1\" class=\"dataframe\">\n",
       "  <thead>\n",
       "    <tr style=\"text-align: right;\">\n",
       "      <th></th>\n",
       "      <th>order_id</th>\n",
       "      <th>order_item_id</th>\n",
       "      <th>product_id</th>\n",
       "      <th>seller_id</th>\n",
       "      <th>shipping_limit_date</th>\n",
       "      <th>price</th>\n",
       "      <th>freight_value</th>\n",
       "    </tr>\n",
       "  </thead>\n",
       "  <tbody>\n",
       "    <tr>\n",
       "      <th>0</th>\n",
       "      <td>00010242fe8c5a6d1ba2dd792cb16214</td>\n",
       "      <td>1</td>\n",
       "      <td>4244733e06e7ecb4970a6e2683c13e61</td>\n",
       "      <td>48436dade18ac8b2bce089ec2a041202</td>\n",
       "      <td>2017-09-19 09:45:35</td>\n",
       "      <td>58.90</td>\n",
       "      <td>13.29</td>\n",
       "    </tr>\n",
       "    <tr>\n",
       "      <th>1</th>\n",
       "      <td>00018f77f2f0320c557190d7a144bdd3</td>\n",
       "      <td>1</td>\n",
       "      <td>e5f2d52b802189ee658865ca93d83a8f</td>\n",
       "      <td>dd7ddc04e1b6c2c614352b383efe2d36</td>\n",
       "      <td>2017-05-03 11:05:13</td>\n",
       "      <td>239.90</td>\n",
       "      <td>19.93</td>\n",
       "    </tr>\n",
       "    <tr>\n",
       "      <th>2</th>\n",
       "      <td>000229ec398224ef6ca0657da4fc703e</td>\n",
       "      <td>1</td>\n",
       "      <td>c777355d18b72b67abbeef9df44fd0fd</td>\n",
       "      <td>5b51032eddd242adc84c38acab88f23d</td>\n",
       "      <td>2018-01-18 14:48:30</td>\n",
       "      <td>199.00</td>\n",
       "      <td>17.87</td>\n",
       "    </tr>\n",
       "    <tr>\n",
       "      <th>3</th>\n",
       "      <td>00024acbcdf0a6daa1e931b038114c75</td>\n",
       "      <td>1</td>\n",
       "      <td>7634da152a4610f1595efa32f14722fc</td>\n",
       "      <td>9d7a1d34a5052409006425275ba1c2b4</td>\n",
       "      <td>2018-08-15 10:10:18</td>\n",
       "      <td>12.99</td>\n",
       "      <td>12.79</td>\n",
       "    </tr>\n",
       "    <tr>\n",
       "      <th>4</th>\n",
       "      <td>00042b26cf59d7ce69dfabb4e55b4fd9</td>\n",
       "      <td>1</td>\n",
       "      <td>ac6c3623068f30de03045865e4e10089</td>\n",
       "      <td>df560393f3a51e74553ab94004ba5c87</td>\n",
       "      <td>2017-02-13 13:57:51</td>\n",
       "      <td>199.90</td>\n",
       "      <td>18.14</td>\n",
       "    </tr>\n",
       "  </tbody>\n",
       "</table>\n",
       "</div>"
      ],
      "text/plain": [
       "                           order_id  order_item_id  \\\n",
       "0  00010242fe8c5a6d1ba2dd792cb16214              1   \n",
       "1  00018f77f2f0320c557190d7a144bdd3              1   \n",
       "2  000229ec398224ef6ca0657da4fc703e              1   \n",
       "3  00024acbcdf0a6daa1e931b038114c75              1   \n",
       "4  00042b26cf59d7ce69dfabb4e55b4fd9              1   \n",
       "\n",
       "                         product_id                         seller_id  \\\n",
       "0  4244733e06e7ecb4970a6e2683c13e61  48436dade18ac8b2bce089ec2a041202   \n",
       "1  e5f2d52b802189ee658865ca93d83a8f  dd7ddc04e1b6c2c614352b383efe2d36   \n",
       "2  c777355d18b72b67abbeef9df44fd0fd  5b51032eddd242adc84c38acab88f23d   \n",
       "3  7634da152a4610f1595efa32f14722fc  9d7a1d34a5052409006425275ba1c2b4   \n",
       "4  ac6c3623068f30de03045865e4e10089  df560393f3a51e74553ab94004ba5c87   \n",
       "\n",
       "   shipping_limit_date   price  freight_value  \n",
       "0  2017-09-19 09:45:35   58.90          13.29  \n",
       "1  2017-05-03 11:05:13  239.90          19.93  \n",
       "2  2018-01-18 14:48:30  199.00          17.87  \n",
       "3  2018-08-15 10:10:18   12.99          12.79  \n",
       "4  2017-02-13 13:57:51  199.90          18.14  "
      ]
     },
     "execution_count": 43,
     "metadata": {},
     "output_type": "execute_result"
    }
   ],
   "source": [
    "# the item that have the highest freight value \n",
    "print(order_items_dataset.iloc[order_items_dataset['freight_value'].idxmax()])\n",
    "order_items_dataset.head()"
   ]
  },
  {
   "cell_type": "code",
   "execution_count": null,
   "metadata": {},
   "outputs": [
    {
     "data": {
      "text/plain": [
       "<Axes: ylabel='price'>"
      ]
     },
     "execution_count": 29,
     "metadata": {},
     "output_type": "execute_result"
    },
    {
     "data": {
      "image/png": "[encoded data removed]",
      "text/plain": [
       "<Figure size 640x480 with 1 Axes>"
      ]
     },
     "metadata": {},
     "output_type": "display_data"
    }
   ],
   "source": [
    "sns.boxplot(order_items_dataset['price'])\n",
    "# this shows most of the purchase item lie between the range of 0-5000"
   ]
  },
  {
   "cell_type": "code",
   "execution_count": null,
   "metadata": {},
   "outputs": [
    {
     "data": {
      "image/png": "[encoded data removed]",
      "text/plain": [
       "<Figure size 1200x600 with 1 Axes>"
      ]
     },
     "metadata": {},
     "output_type": "display_data"
    }
   ],
   "source": [
    "#plot the histogram of the attribute price \n",
    "plt.figure(figsize=(12,6))\n",
    "sns.histplot(order_items_dataset['price'],bins=100,kde=True)\n",
    "plt.xlabel('Price')\n",
    "plt.ylabel('Frequency')\n",
    "plt.title('Histogram of Price')\n",
    "plt.show()\n"
   ]
  },
  {
   "cell_type": "code",
   "execution_count": 51,
   "metadata": {},
   "outputs": [
    {
     "name": "stdout",
     "output_type": "stream",
     "text": [
      "price with the highest frequency is 59.9\n"
     ]
    }
   ],
   "source": [
    "#finding the price with maximum frequency(mode)\n",
    "mode_price=order_items_dataset['price'].mode()[0]\n",
    "print(f\"price with the highest frequency is {mode_price}\")\n"
   ]
  },
  {
   "cell_type": "code",
   "execution_count": 53,
   "metadata": {},
   "outputs": [
    {
     "name": "stdout",
     "output_type": "stream",
     "text": [
      "median price of the item is 74.99\n"
     ]
    }
   ],
   "source": [
    "median_price=order_items_dataset['price'].median()\n",
    "print(f\"median price of the item is {median_price}\")"
   ]
  },
  {
   "cell_type": "code",
   "execution_count": 46,
   "metadata": {},
   "outputs": [
    {
     "name": "stdout",
     "output_type": "stream",
     "text": [
      "Range with the highest frequency is 0.85-68.19149999999999\n"
     ]
    }
   ],
   "source": [
    "#finding the range with the highest frequency\n",
    "counts,bins=np.histogram(order_items_dataset['price'],bins=100)\n",
    "max_freq_index=np.argmax(counts)\n",
    "print(f\"Range with the highest frequency is {bins[max_freq_index]}-{bins[max_freq_index+1]}\")\n"
   ]
  },
  {
   "cell_type": "code",
   "execution_count": 47,
   "metadata": {},
   "outputs": [
    {
     "data": {
      "text/plain": [
       "<Axes: ylabel='freight_value'>"
      ]
     },
     "execution_count": 47,
     "metadata": {},
     "output_type": "execute_result"
    },
    {
     "data": {
      "image/png": "[encoded data removed]",
      "text/plain": [
       "<Figure size 640x480 with 1 Axes>"
      ]
     },
     "metadata": {},
     "output_type": "display_data"
    }
   ],
   "source": [
    "#plotting the boxplot of the feature freight_value\n",
    "sns.boxplot(order_items_dataset['freight_value'])\n"
   ]
  },
  {
   "cell_type": "code",
   "execution_count": 48,
   "metadata": {},
   "outputs": [
    {
     "data": {
      "image/png": "[encoded data removed]",
      "text/plain": [
       "<Figure size 1200x600 with 1 Axes>"
      ]
     },
     "metadata": {},
     "output_type": "display_data"
    }
   ],
   "source": [
    "#plotting the histogram of the feature freight_value\n",
    "plt.figure(figsize=(12,6))\n",
    "sns.histplot(order_items_dataset['freight_value'],bins=100,kde=True)\n",
    "plt.xlabel('Freight Value')\n",
    "plt.ylabel('Frequency')\n",
    "plt.show()"
   ]
  },
  {
   "cell_type": "code",
   "execution_count": 49,
   "metadata": {},
   "outputs": [
    {
     "name": "stdout",
     "output_type": "stream",
     "text": [
      "15.1\n"
     ]
    }
   ],
   "source": [
    "#finding the mode of the feature freight_value\n",
    "mode_freight_value=order_items_dataset['freight_value'].mode()[0]\n",
    "print(mode_freight_value)"
   ]
  },
  {
   "cell_type": "code",
   "execution_count": 50,
   "metadata": {},
   "outputs": [
    {
     "name": "stdout",
     "output_type": "stream",
     "text": [
      "16.26\n"
     ]
    }
   ],
   "source": [
    "#finding the mediam for the feature freight_value\n",
    "median_freight_value=order_items_dataset['freight_value'].median()\n",
    "print(median_freight_value)"
   ]
  },
  {
   "cell_type": "markdown",
   "metadata": {},
   "source": [
    "Assessing the Order Payment table"
   ]
  },
  {
   "cell_type": "code",
   "execution_count": 54,
   "metadata": {},
   "outputs": [
    {
     "name": "stdout",
     "output_type": "stream",
     "text": [
      "<class 'pandas.core.frame.DataFrame'>\n",
      "RangeIndex: 103886 entries, 0 to 103885\n",
      "Data columns (total 5 columns):\n",
      " #   Column                Non-Null Count   Dtype  \n",
      "---  ------                --------------   -----  \n",
      " 0   order_id              103886 non-null  object \n",
      " 1   payment_sequential    103886 non-null  int64  \n",
      " 2   payment_type          103886 non-null  object \n",
      " 3   payment_installments  103886 non-null  int64  \n",
      " 4   payment_value         103886 non-null  float64\n",
      "dtypes: float64(1), int64(2), object(2)\n",
      "memory usage: 4.0+ MB\n"
     ]
    }
   ],
   "source": [
    "orders_payments_dataset.info()"
   ]
  },
  {
   "cell_type": "code",
   "execution_count": 55,
   "metadata": {},
   "outputs": [
    {
     "data": {
      "text/plain": [
       "order_id                0\n",
       "payment_sequential      0\n",
       "payment_type            0\n",
       "payment_installments    0\n",
       "payment_value           0\n",
       "dtype: int64"
      ]
     },
     "execution_count": 55,
     "metadata": {},
     "output_type": "execute_result"
    }
   ],
   "source": [
    "#check the mssing value in the order_payments_dataset\n",
    "orders_payments_dataset.isnull().sum()"
   ]
  },
  {
   "cell_type": "code",
   "execution_count": 56,
   "metadata": {},
   "outputs": [
    {
     "name": "stdout",
     "output_type": "stream",
     "text": [
      "Total duplicate value 0\n"
     ]
    }
   ],
   "source": [
    "#check the duplicate value in the order_payments_dataset\n",
    "duplicate_value=orders_payments_dataset.duplicated()\n",
    "print(f\"Total duplicate value\",duplicate_value.sum())"
   ]
  },
  {
   "cell_type": "code",
   "execution_count": 58,
   "metadata": {},
   "outputs": [
    {
     "data": {
      "text/html": [
       "<div>\n",
       "<style scoped>\n",
       "    .dataframe tbody tr th:only-of-type {\n",
       "        vertical-align: middle;\n",
       "    }\n",
       "\n",
       "    .dataframe tbody tr th {\n",
       "        vertical-align: top;\n",
       "    }\n",
       "\n",
       "    .dataframe thead th {\n",
       "        text-align: right;\n",
       "    }\n",
       "</style>\n",
       "<table border=\"1\" class=\"dataframe\">\n",
       "  <thead>\n",
       "    <tr style=\"text-align: right;\">\n",
       "      <th></th>\n",
       "      <th>payment_sequential</th>\n",
       "      <th>payment_installments</th>\n",
       "      <th>payment_value</th>\n",
       "    </tr>\n",
       "  </thead>\n",
       "  <tbody>\n",
       "    <tr>\n",
       "      <th>count</th>\n",
       "      <td>103886.000000</td>\n",
       "      <td>103886.000000</td>\n",
       "      <td>103886.000000</td>\n",
       "    </tr>\n",
       "    <tr>\n",
       "      <th>mean</th>\n",
       "      <td>1.092679</td>\n",
       "      <td>2.853349</td>\n",
       "      <td>154.100380</td>\n",
       "    </tr>\n",
       "    <tr>\n",
       "      <th>std</th>\n",
       "      <td>0.706584</td>\n",
       "      <td>2.687051</td>\n",
       "      <td>217.494064</td>\n",
       "    </tr>\n",
       "    <tr>\n",
       "      <th>min</th>\n",
       "      <td>1.000000</td>\n",
       "      <td>0.000000</td>\n",
       "      <td>0.000000</td>\n",
       "    </tr>\n",
       "    <tr>\n",
       "      <th>25%</th>\n",
       "      <td>1.000000</td>\n",
       "      <td>1.000000</td>\n",
       "      <td>56.790000</td>\n",
       "    </tr>\n",
       "    <tr>\n",
       "      <th>50%</th>\n",
       "      <td>1.000000</td>\n",
       "      <td>1.000000</td>\n",
       "      <td>100.000000</td>\n",
       "    </tr>\n",
       "    <tr>\n",
       "      <th>75%</th>\n",
       "      <td>1.000000</td>\n",
       "      <td>4.000000</td>\n",
       "      <td>171.837500</td>\n",
       "    </tr>\n",
       "    <tr>\n",
       "      <th>max</th>\n",
       "      <td>29.000000</td>\n",
       "      <td>24.000000</td>\n",
       "      <td>13664.080000</td>\n",
       "    </tr>\n",
       "  </tbody>\n",
       "</table>\n",
       "</div>"
      ],
      "text/plain": [
       "       payment_sequential  payment_installments  payment_value\n",
       "count       103886.000000         103886.000000  103886.000000\n",
       "mean             1.092679              2.853349     154.100380\n",
       "std              0.706584              2.687051     217.494064\n",
       "min              1.000000              0.000000       0.000000\n",
       "25%              1.000000              1.000000      56.790000\n",
       "50%              1.000000              1.000000     100.000000\n",
       "75%              1.000000              4.000000     171.837500\n",
       "max             29.000000             24.000000   13664.080000"
      ]
     },
     "execution_count": 58,
     "metadata": {},
     "output_type": "execute_result"
    }
   ],
   "source": [
    "orders_payments_dataset.describe()"
   ]
  },
  {
   "cell_type": "code",
   "execution_count": 87,
   "metadata": {},
   "outputs": [
    {
     "data": {
      "text/plain": [
       "<Axes: xlabel='payment_value'>"
      ]
     },
     "execution_count": 87,
     "metadata": {},
     "output_type": "execute_result"
    },
    {
     "data": {
      "image/png": "[encoded data removed]",
      "text/plain": [
       "<Figure size 640x480 with 1 Axes>"
      ]
     },
     "metadata": {},
     "output_type": "display_data"
    }
   ],
   "source": [
    "sns.boxplot(x=orders_payments_dataset['payment_value'])"
   ]
  },
  {
   "cell_type": "code",
   "execution_count": 60,
   "metadata": {},
   "outputs": [
    {
     "data": {
      "image/png": "[encoded data removed]",
      "text/plain": [
       "<Figure size 640x480 with 1 Axes>"
      ]
     },
     "metadata": {},
     "output_type": "display_data"
    }
   ],
   "source": [
    "sns.histplot(orders_payments_dataset['payment_value'],bins=100,kde=True)\n",
    "plt.xlabel('Payment Value')\n",
    "plt.show()"
   ]
  },
  {
   "cell_type": "code",
   "execution_count": 61,
   "metadata": {},
   "outputs": [
    {
     "name": "stdout",
     "output_type": "stream",
     "text": [
      "mode of the payment value is 50.0\n",
      "median of the payment value is 100.0\n"
     ]
    }
   ],
   "source": [
    "#mode and median of the payment value\n",
    "mode_payment_value=orders_payments_dataset['payment_value'].mode()[0]\n",
    "print(f\"mode of the payment value is {mode_payment_value}\")\n",
    "median_payment_value=orders_payments_dataset['payment_value'].median()\n",
    "print(f\"median of the payment value is {median_payment_value}\")"
   ]
  },
  {
   "cell_type": "markdown",
   "metadata": {},
   "source": [
    "Assessing the order review table "
   ]
  },
  {
   "cell_type": "code",
   "execution_count": 62,
   "metadata": {},
   "outputs": [
    {
     "name": "stdout",
     "output_type": "stream",
     "text": [
      "<class 'pandas.core.frame.DataFrame'>\n",
      "RangeIndex: 99224 entries, 0 to 99223\n",
      "Data columns (total 7 columns):\n",
      " #   Column                   Non-Null Count  Dtype \n",
      "---  ------                   --------------  ----- \n",
      " 0   review_id                99224 non-null  object\n",
      " 1   order_id                 99224 non-null  object\n",
      " 2   review_score             99224 non-null  int64 \n",
      " 3   review_comment_title     11568 non-null  object\n",
      " 4   review_comment_message   40977 non-null  object\n",
      " 5   review_creation_date     99224 non-null  object\n",
      " 6   review_answer_timestamp  99224 non-null  object\n",
      "dtypes: int64(1), object(6)\n",
      "memory usage: 5.3+ MB\n"
     ]
    }
   ],
   "source": [
    "orders_reviews_dataset.info()"
   ]
  },
  {
   "cell_type": "code",
   "execution_count": 63,
   "metadata": {},
   "outputs": [
    {
     "data": {
      "text/plain": [
       "review_comment_title       87656\n",
       "review_comment_message     58247\n",
       "review_id                      0\n",
       "review_score                   0\n",
       "order_id                       0\n",
       "review_creation_date           0\n",
       "review_answer_timestamp        0\n",
       "dtype: int64"
      ]
     },
     "execution_count": 63,
     "metadata": {},
     "output_type": "execute_result"
    }
   ],
   "source": [
    "#checking the missing values in the table_order_reviews\n",
    "orders_reviews_dataset.isnull().sum().sort_values(ascending=False)\n"
   ]
  },
  {
   "cell_type": "code",
   "execution_count": 64,
   "metadata": {},
   "outputs": [
    {
     "name": "stdout",
     "output_type": "stream",
     "text": [
      "Total duplicate value 0\n"
     ]
    }
   ],
   "source": [
    "duplicate_value=orders_reviews_dataset.duplicated()\n",
    "print(f\"Total duplicate value\",duplicate_value.sum())"
   ]
  },
  {
   "cell_type": "code",
   "execution_count": 65,
   "metadata": {},
   "outputs": [
    {
     "data": {
      "text/html": [
       "<div>\n",
       "<style scoped>\n",
       "    .dataframe tbody tr th:only-of-type {\n",
       "        vertical-align: middle;\n",
       "    }\n",
       "\n",
       "    .dataframe tbody tr th {\n",
       "        vertical-align: top;\n",
       "    }\n",
       "\n",
       "    .dataframe thead th {\n",
       "        text-align: right;\n",
       "    }\n",
       "</style>\n",
       "<table border=\"1\" class=\"dataframe\">\n",
       "  <thead>\n",
       "    <tr style=\"text-align: right;\">\n",
       "      <th></th>\n",
       "      <th>review_score</th>\n",
       "    </tr>\n",
       "  </thead>\n",
       "  <tbody>\n",
       "    <tr>\n",
       "      <th>count</th>\n",
       "      <td>99224.000000</td>\n",
       "    </tr>\n",
       "    <tr>\n",
       "      <th>mean</th>\n",
       "      <td>4.086421</td>\n",
       "    </tr>\n",
       "    <tr>\n",
       "      <th>std</th>\n",
       "      <td>1.347579</td>\n",
       "    </tr>\n",
       "    <tr>\n",
       "      <th>min</th>\n",
       "      <td>1.000000</td>\n",
       "    </tr>\n",
       "    <tr>\n",
       "      <th>25%</th>\n",
       "      <td>4.000000</td>\n",
       "    </tr>\n",
       "    <tr>\n",
       "      <th>50%</th>\n",
       "      <td>5.000000</td>\n",
       "    </tr>\n",
       "    <tr>\n",
       "      <th>75%</th>\n",
       "      <td>5.000000</td>\n",
       "    </tr>\n",
       "    <tr>\n",
       "      <th>max</th>\n",
       "      <td>5.000000</td>\n",
       "    </tr>\n",
       "  </tbody>\n",
       "</table>\n",
       "</div>"
      ],
      "text/plain": [
       "       review_score\n",
       "count  99224.000000\n",
       "mean       4.086421\n",
       "std        1.347579\n",
       "min        1.000000\n",
       "25%        4.000000\n",
       "50%        5.000000\n",
       "75%        5.000000\n",
       "max        5.000000"
      ]
     },
     "execution_count": 65,
     "metadata": {},
     "output_type": "execute_result"
    }
   ],
   "source": [
    "orders_reviews_dataset.describe()"
   ]
  },
  {
   "cell_type": "markdown",
   "metadata": {},
   "source": [
    "- Assess the product table"
   ]
  },
  {
   "cell_type": "code",
   "execution_count": 67,
   "metadata": {},
   "outputs": [
    {
     "name": "stdout",
     "output_type": "stream",
     "text": [
      "<class 'pandas.core.frame.DataFrame'>\n",
      "RangeIndex: 32951 entries, 0 to 32950\n",
      "Data columns (total 9 columns):\n",
      " #   Column                      Non-Null Count  Dtype  \n",
      "---  ------                      --------------  -----  \n",
      " 0   product_id                  32951 non-null  object \n",
      " 1   product_category_name       32341 non-null  object \n",
      " 2   product_name_lenght         32341 non-null  float64\n",
      " 3   product_description_lenght  32341 non-null  float64\n",
      " 4   product_photos_qty          32341 non-null  float64\n",
      " 5   product_weight_g            32949 non-null  float64\n",
      " 6   product_length_cm           32949 non-null  float64\n",
      " 7   product_height_cm           32949 non-null  float64\n",
      " 8   product_width_cm            32949 non-null  float64\n",
      "dtypes: float64(7), object(2)\n",
      "memory usage: 2.3+ MB\n"
     ]
    }
   ],
   "source": [
    "olist_product_dataset.info()"
   ]
  },
  {
   "cell_type": "code",
   "execution_count": 69,
   "metadata": {},
   "outputs": [
    {
     "data": {
      "text/html": [
       "<div>\n",
       "<style scoped>\n",
       "    .dataframe tbody tr th:only-of-type {\n",
       "        vertical-align: middle;\n",
       "    }\n",
       "\n",
       "    .dataframe tbody tr th {\n",
       "        vertical-align: top;\n",
       "    }\n",
       "\n",
       "    .dataframe thead th {\n",
       "        text-align: right;\n",
       "    }\n",
       "</style>\n",
       "<table border=\"1\" class=\"dataframe\">\n",
       "  <thead>\n",
       "    <tr style=\"text-align: right;\">\n",
       "      <th></th>\n",
       "      <th>product_id</th>\n",
       "      <th>product_category_name</th>\n",
       "      <th>product_name_lenght</th>\n",
       "      <th>product_description_lenght</th>\n",
       "      <th>product_photos_qty</th>\n",
       "      <th>product_weight_g</th>\n",
       "      <th>product_length_cm</th>\n",
       "      <th>product_height_cm</th>\n",
       "      <th>product_width_cm</th>\n",
       "    </tr>\n",
       "  </thead>\n",
       "  <tbody>\n",
       "    <tr>\n",
       "      <th>0</th>\n",
       "      <td>1e9e8ef04dbcff4541ed26657ea517e5</td>\n",
       "      <td>perfumaria</td>\n",
       "      <td>40.0</td>\n",
       "      <td>287.0</td>\n",
       "      <td>1.0</td>\n",
       "      <td>225.0</td>\n",
       "      <td>16.0</td>\n",
       "      <td>10.0</td>\n",
       "      <td>14.0</td>\n",
       "    </tr>\n",
       "    <tr>\n",
       "      <th>1</th>\n",
       "      <td>3aa071139cb16b67ca9e5dea641aaa2f</td>\n",
       "      <td>artes</td>\n",
       "      <td>44.0</td>\n",
       "      <td>276.0</td>\n",
       "      <td>1.0</td>\n",
       "      <td>1000.0</td>\n",
       "      <td>30.0</td>\n",
       "      <td>18.0</td>\n",
       "      <td>20.0</td>\n",
       "    </tr>\n",
       "    <tr>\n",
       "      <th>2</th>\n",
       "      <td>96bd76ec8810374ed1b65e291975717f</td>\n",
       "      <td>esporte_lazer</td>\n",
       "      <td>46.0</td>\n",
       "      <td>250.0</td>\n",
       "      <td>1.0</td>\n",
       "      <td>154.0</td>\n",
       "      <td>18.0</td>\n",
       "      <td>9.0</td>\n",
       "      <td>15.0</td>\n",
       "    </tr>\n",
       "    <tr>\n",
       "      <th>3</th>\n",
       "      <td>cef67bcfe19066a932b7673e239eb23d</td>\n",
       "      <td>bebes</td>\n",
       "      <td>27.0</td>\n",
       "      <td>261.0</td>\n",
       "      <td>1.0</td>\n",
       "      <td>371.0</td>\n",
       "      <td>26.0</td>\n",
       "      <td>4.0</td>\n",
       "      <td>26.0</td>\n",
       "    </tr>\n",
       "    <tr>\n",
       "      <th>4</th>\n",
       "      <td>9dc1a7de274444849c219cff195d0b71</td>\n",
       "      <td>utilidades_domesticas</td>\n",
       "      <td>37.0</td>\n",
       "      <td>402.0</td>\n",
       "      <td>4.0</td>\n",
       "      <td>625.0</td>\n",
       "      <td>20.0</td>\n",
       "      <td>17.0</td>\n",
       "      <td>13.0</td>\n",
       "    </tr>\n",
       "  </tbody>\n",
       "</table>\n",
       "</div>"
      ],
      "text/plain": [
       "                         product_id  product_category_name  \\\n",
       "0  1e9e8ef04dbcff4541ed26657ea517e5             perfumaria   \n",
       "1  3aa071139cb16b67ca9e5dea641aaa2f                  artes   \n",
       "2  96bd76ec8810374ed1b65e291975717f          esporte_lazer   \n",
       "3  cef67bcfe19066a932b7673e239eb23d                  bebes   \n",
       "4  9dc1a7de274444849c219cff195d0b71  utilidades_domesticas   \n",
       "\n",
       "   product_name_lenght  product_description_lenght  product_photos_qty  \\\n",
       "0                 40.0                       287.0                 1.0   \n",
       "1                 44.0                       276.0                 1.0   \n",
       "2                 46.0                       250.0                 1.0   \n",
       "3                 27.0                       261.0                 1.0   \n",
       "4                 37.0                       402.0                 4.0   \n",
       "\n",
       "   product_weight_g  product_length_cm  product_height_cm  product_width_cm  \n",
       "0             225.0               16.0               10.0              14.0  \n",
       "1            1000.0               30.0               18.0              20.0  \n",
       "2             154.0               18.0                9.0              15.0  \n",
       "3             371.0               26.0                4.0              26.0  \n",
       "4             625.0               20.0               17.0              13.0  "
      ]
     },
     "execution_count": 69,
     "metadata": {},
     "output_type": "execute_result"
    }
   ],
   "source": [
    "olist_product_dataset.head()"
   ]
  },
  {
   "cell_type": "code",
   "execution_count": 70,
   "metadata": {},
   "outputs": [
    {
     "data": {
      "text/plain": [
       "product_id                      0\n",
       "product_category_name         610\n",
       "product_name_lenght           610\n",
       "product_description_lenght    610\n",
       "product_photos_qty            610\n",
       "product_weight_g                2\n",
       "product_length_cm               2\n",
       "product_height_cm               2\n",
       "product_width_cm                2\n",
       "dtype: int64"
      ]
     },
     "execution_count": 70,
     "metadata": {},
     "output_type": "execute_result"
    }
   ],
   "source": [
    "#finding the sum of null values\n",
    "olist_product_dataset.isnull().sum()"
   ]
  },
  {
   "cell_type": "code",
   "execution_count": 71,
   "metadata": {},
   "outputs": [
    {
     "name": "stdout",
     "output_type": "stream",
     "text": [
      "Total duplicate value 0\n"
     ]
    }
   ],
   "source": [
    "#checking the duplicates value \n",
    "duplicate_value=olist_product_dataset.duplicated()\n",
    "print(f\"Total duplicate value\",duplicate_value.sum())"
   ]
  },
  {
   "cell_type": "code",
   "execution_count": 77,
   "metadata": {},
   "outputs": [
    {
     "data": {
      "text/plain": [
       "np.False_"
      ]
     },
     "execution_count": 77,
     "metadata": {},
     "output_type": "execute_result"
    }
   ],
   "source": [
    "#checking the name length of the product contains decimal value or not because it is in float64 we will convert to integer\n",
    "olist_product_dataset['product_name_lenght'].apply(lambda x:x!=round(x) if pd.notnull(x) else False).any()"
   ]
  },
  {
   "cell_type": "code",
   "execution_count": 78,
   "metadata": {},
   "outputs": [
    {
     "data": {
      "text/plain": [
       "np.False_"
      ]
     },
     "execution_count": 78,
     "metadata": {},
     "output_type": "execute_result"
    }
   ],
   "source": [
    "olist_product_dataset[\"product_description_lenght\"].apply(\n",
    "    lambda x: x != round(x) if pd.notnull(x) else False\n",
    ").any()"
   ]
  },
  {
   "cell_type": "code",
   "execution_count": 80,
   "metadata": {},
   "outputs": [
    {
     "data": {
      "text/plain": [
       "np.False_"
      ]
     },
     "execution_count": 80,
     "metadata": {},
     "output_type": "execute_result"
    }
   ],
   "source": [
    "# Check the decimal values in the attribute product_photos_qty\n",
    "olist_product_dataset[\"product_photos_qty\"].apply(\n",
    "    lambda x: x != round(x) if pd.notnull(x) else False\n",
    ").any()\n"
   ]
  },
  {
   "cell_type": "code",
   "execution_count": 81,
   "metadata": {},
   "outputs": [
    {
     "data": {
      "text/plain": [
       "np.False_"
      ]
     },
     "execution_count": 81,
     "metadata": {},
     "output_type": "execute_result"
    }
   ],
   "source": [
    "olist_product_dataset[\"product_weight_g\"].apply(\n",
    "    lambda x: x != round(x) if pd.notnull(x) else False\n",
    ").any()"
   ]
  },
  {
   "cell_type": "code",
   "execution_count": 82,
   "metadata": {},
   "outputs": [
    {
     "data": {
      "text/plain": [
       "np.False_"
      ]
     },
     "execution_count": 82,
     "metadata": {},
     "output_type": "execute_result"
    }
   ],
   "source": [
    "olist_product_dataset[\"product_length_cm\"].apply(\n",
    "    lambda x: x != round(x) if pd.notnull(x) else False\n",
    ").any()"
   ]
  },
  {
   "cell_type": "code",
   "execution_count": 83,
   "metadata": {},
   "outputs": [
    {
     "data": {
      "text/plain": [
       "np.False_"
      ]
     },
     "execution_count": 83,
     "metadata": {},
     "output_type": "execute_result"
    }
   ],
   "source": [
    "olist_product_dataset[\"product_height_cm\"].apply(\n",
    "    lambda x: x != round(x) if pd.notnull(x) else False\n",
    ").any()"
   ]
  },
  {
   "cell_type": "code",
   "execution_count": 84,
   "metadata": {},
   "outputs": [
    {
     "data": {
      "text/plain": [
       "np.False_"
      ]
     },
     "execution_count": 84,
     "metadata": {},
     "output_type": "execute_result"
    }
   ],
   "source": [
    "olist_product_dataset[\"product_width_cm\"].apply(\n",
    "    lambda x: x != round(x) if pd.notnull(x) else False\n",
    ").any()"
   ]
  },
  {
   "cell_type": "code",
   "execution_count": 85,
   "metadata": {},
   "outputs": [
    {
     "name": "stdout",
     "output_type": "stream",
     "text": [
      "Total duplicate value 0\n"
     ]
    }
   ],
   "source": [
    "#checking the duplicates \n",
    "duplicate_value=olist_product_dataset.duplicated()\n",
    "print(f\"Total duplicate value\",duplicate_value.sum())"
   ]
  },
  {
   "cell_type": "code",
   "execution_count": 86,
   "metadata": {},
   "outputs": [
    {
     "data": {
      "text/html": [
       "<div>\n",
       "<style scoped>\n",
       "    .dataframe tbody tr th:only-of-type {\n",
       "        vertical-align: middle;\n",
       "    }\n",
       "\n",
       "    .dataframe tbody tr th {\n",
       "        vertical-align: top;\n",
       "    }\n",
       "\n",
       "    .dataframe thead th {\n",
       "        text-align: right;\n",
       "    }\n",
       "</style>\n",
       "<table border=\"1\" class=\"dataframe\">\n",
       "  <thead>\n",
       "    <tr style=\"text-align: right;\">\n",
       "      <th></th>\n",
       "      <th>product_name_lenght</th>\n",
       "      <th>product_description_lenght</th>\n",
       "      <th>product_photos_qty</th>\n",
       "      <th>product_weight_g</th>\n",
       "      <th>product_length_cm</th>\n",
       "      <th>product_height_cm</th>\n",
       "      <th>product_width_cm</th>\n",
       "    </tr>\n",
       "  </thead>\n",
       "  <tbody>\n",
       "    <tr>\n",
       "      <th>count</th>\n",
       "      <td>32341.000000</td>\n",
       "      <td>32341.000000</td>\n",
       "      <td>32341.000000</td>\n",
       "      <td>32949.000000</td>\n",
       "      <td>32949.000000</td>\n",
       "      <td>32949.000000</td>\n",
       "      <td>32949.000000</td>\n",
       "    </tr>\n",
       "    <tr>\n",
       "      <th>mean</th>\n",
       "      <td>48.476949</td>\n",
       "      <td>771.495285</td>\n",
       "      <td>2.188986</td>\n",
       "      <td>2276.472488</td>\n",
       "      <td>30.815078</td>\n",
       "      <td>16.937661</td>\n",
       "      <td>23.196728</td>\n",
       "    </tr>\n",
       "    <tr>\n",
       "      <th>std</th>\n",
       "      <td>10.245741</td>\n",
       "      <td>635.115225</td>\n",
       "      <td>1.736766</td>\n",
       "      <td>4282.038731</td>\n",
       "      <td>16.914458</td>\n",
       "      <td>13.637554</td>\n",
       "      <td>12.079047</td>\n",
       "    </tr>\n",
       "    <tr>\n",
       "      <th>min</th>\n",
       "      <td>5.000000</td>\n",
       "      <td>4.000000</td>\n",
       "      <td>1.000000</td>\n",
       "      <td>0.000000</td>\n",
       "      <td>7.000000</td>\n",
       "      <td>2.000000</td>\n",
       "      <td>6.000000</td>\n",
       "    </tr>\n",
       "    <tr>\n",
       "      <th>25%</th>\n",
       "      <td>42.000000</td>\n",
       "      <td>339.000000</td>\n",
       "      <td>1.000000</td>\n",
       "      <td>300.000000</td>\n",
       "      <td>18.000000</td>\n",
       "      <td>8.000000</td>\n",
       "      <td>15.000000</td>\n",
       "    </tr>\n",
       "    <tr>\n",
       "      <th>50%</th>\n",
       "      <td>51.000000</td>\n",
       "      <td>595.000000</td>\n",
       "      <td>1.000000</td>\n",
       "      <td>700.000000</td>\n",
       "      <td>25.000000</td>\n",
       "      <td>13.000000</td>\n",
       "      <td>20.000000</td>\n",
       "    </tr>\n",
       "    <tr>\n",
       "      <th>75%</th>\n",
       "      <td>57.000000</td>\n",
       "      <td>972.000000</td>\n",
       "      <td>3.000000</td>\n",
       "      <td>1900.000000</td>\n",
       "      <td>38.000000</td>\n",
       "      <td>21.000000</td>\n",
       "      <td>30.000000</td>\n",
       "    </tr>\n",
       "    <tr>\n",
       "      <th>max</th>\n",
       "      <td>76.000000</td>\n",
       "      <td>3992.000000</td>\n",
       "      <td>20.000000</td>\n",
       "      <td>40425.000000</td>\n",
       "      <td>105.000000</td>\n",
       "      <td>105.000000</td>\n",
       "      <td>118.000000</td>\n",
       "    </tr>\n",
       "  </tbody>\n",
       "</table>\n",
       "</div>"
      ],
      "text/plain": [
       "       product_name_lenght  product_description_lenght  product_photos_qty  \\\n",
       "count         32341.000000                32341.000000        32341.000000   \n",
       "mean             48.476949                  771.495285            2.188986   \n",
       "std              10.245741                  635.115225            1.736766   \n",
       "min               5.000000                    4.000000            1.000000   \n",
       "25%              42.000000                  339.000000            1.000000   \n",
       "50%              51.000000                  595.000000            1.000000   \n",
       "75%              57.000000                  972.000000            3.000000   \n",
       "max              76.000000                 3992.000000           20.000000   \n",
       "\n",
       "       product_weight_g  product_length_cm  product_height_cm  \\\n",
       "count      32949.000000       32949.000000       32949.000000   \n",
       "mean        2276.472488          30.815078          16.937661   \n",
       "std         4282.038731          16.914458          13.637554   \n",
       "min            0.000000           7.000000           2.000000   \n",
       "25%          300.000000          18.000000           8.000000   \n",
       "50%          700.000000          25.000000          13.000000   \n",
       "75%         1900.000000          38.000000          21.000000   \n",
       "max        40425.000000         105.000000         105.000000   \n",
       "\n",
       "       product_width_cm  \n",
       "count      32949.000000  \n",
       "mean          23.196728  \n",
       "std           12.079047  \n",
       "min            6.000000  \n",
       "25%           15.000000  \n",
       "50%           20.000000  \n",
       "75%           30.000000  \n",
       "max          118.000000  "
      ]
     },
     "execution_count": 86,
     "metadata": {},
     "output_type": "execute_result"
    }
   ],
   "source": [
    "olist_product_dataset.describe()"
   ]
  },
  {
   "cell_type": "markdown",
   "metadata": {},
   "source": [
    "**Assess the product_category table**"
   ]
  },
  {
   "cell_type": "code",
   "execution_count": 88,
   "metadata": {},
   "outputs": [
    {
     "name": "stdout",
     "output_type": "stream",
     "text": [
      "<class 'pandas.core.frame.DataFrame'>\n",
      "RangeIndex: 71 entries, 0 to 70\n",
      "Data columns (total 2 columns):\n",
      " #   Column                         Non-Null Count  Dtype \n",
      "---  ------                         --------------  ----- \n",
      " 0   product_category_name          71 non-null     object\n",
      " 1   product_category_name_english  71 non-null     object\n",
      "dtypes: object(2)\n",
      "memory usage: 1.2+ KB\n"
     ]
    }
   ],
   "source": [
    "product_category_dataset.info()"
   ]
  },
  {
   "cell_type": "code",
   "execution_count": 89,
   "metadata": {},
   "outputs": [
    {
     "data": {
      "text/html": [
       "<div>\n",
       "<style scoped>\n",
       "    .dataframe tbody tr th:only-of-type {\n",
       "        vertical-align: middle;\n",
       "    }\n",
       "\n",
       "    .dataframe tbody tr th {\n",
       "        vertical-align: top;\n",
       "    }\n",
       "\n",
       "    .dataframe thead th {\n",
       "        text-align: right;\n",
       "    }\n",
       "</style>\n",
       "<table border=\"1\" class=\"dataframe\">\n",
       "  <thead>\n",
       "    <tr style=\"text-align: right;\">\n",
       "      <th></th>\n",
       "      <th>product_category_name</th>\n",
       "      <th>product_category_name_english</th>\n",
       "    </tr>\n",
       "  </thead>\n",
       "  <tbody>\n",
       "    <tr>\n",
       "      <th>0</th>\n",
       "      <td>beleza_saude</td>\n",
       "      <td>health_beauty</td>\n",
       "    </tr>\n",
       "    <tr>\n",
       "      <th>1</th>\n",
       "      <td>informatica_acessorios</td>\n",
       "      <td>computers_accessories</td>\n",
       "    </tr>\n",
       "    <tr>\n",
       "      <th>2</th>\n",
       "      <td>automotivo</td>\n",
       "      <td>auto</td>\n",
       "    </tr>\n",
       "    <tr>\n",
       "      <th>3</th>\n",
       "      <td>cama_mesa_banho</td>\n",
       "      <td>bed_bath_table</td>\n",
       "    </tr>\n",
       "    <tr>\n",
       "      <th>4</th>\n",
       "      <td>moveis_decoracao</td>\n",
       "      <td>furniture_decor</td>\n",
       "    </tr>\n",
       "  </tbody>\n",
       "</table>\n",
       "</div>"
      ],
      "text/plain": [
       "    product_category_name product_category_name_english\n",
       "0            beleza_saude                 health_beauty\n",
       "1  informatica_acessorios         computers_accessories\n",
       "2              automotivo                          auto\n",
       "3         cama_mesa_banho                bed_bath_table\n",
       "4        moveis_decoracao               furniture_decor"
      ]
     },
     "execution_count": 89,
     "metadata": {},
     "output_type": "execute_result"
    }
   ],
   "source": [
    "product_category_dataset.head()"
   ]
  },
  {
   "cell_type": "code",
   "execution_count": 90,
   "metadata": {},
   "outputs": [
    {
     "data": {
      "text/plain": [
       "product_category_name            0\n",
       "product_category_name_english    0\n",
       "dtype: int64"
      ]
     },
     "execution_count": 90,
     "metadata": {},
     "output_type": "execute_result"
    }
   ],
   "source": [
    "#checking the missing value in the table product_category_name\n",
    "product_category_dataset.isnull().sum().sort_values(ascending=False)\n"
   ]
  },
  {
   "cell_type": "code",
   "execution_count": 91,
   "metadata": {},
   "outputs": [
    {
     "name": "stdout",
     "output_type": "stream",
     "text": [
      "Total duplicate value:0\n"
     ]
    }
   ],
   "source": [
    "duplicate_value=product_category_dataset.duplicated()\n",
    "print(f\"Total duplicate value:{duplicate_value.sum()}\")"
   ]
  },
  {
   "cell_type": "markdown",
   "metadata": {},
   "source": [
    "Assess the sellers table "
   ]
  },
  {
   "cell_type": "code",
   "execution_count": 92,
   "metadata": {},
   "outputs": [
    {
     "name": "stdout",
     "output_type": "stream",
     "text": [
      "<class 'pandas.core.frame.DataFrame'>\n",
      "RangeIndex: 3095 entries, 0 to 3094\n",
      "Data columns (total 4 columns):\n",
      " #   Column                  Non-Null Count  Dtype \n",
      "---  ------                  --------------  ----- \n",
      " 0   seller_id               3095 non-null   object\n",
      " 1   seller_zip_code_prefix  3095 non-null   int64 \n",
      " 2   seller_city             3095 non-null   object\n",
      " 3   seller_state            3095 non-null   object\n",
      "dtypes: int64(1), object(3)\n",
      "memory usage: 96.8+ KB\n"
     ]
    }
   ],
   "source": [
    "olist_sellers_dataset.info()"
   ]
  },
  {
   "cell_type": "markdown",
   "metadata": {},
   "source": [
    "Assess the geolocation table "
   ]
  },
  {
   "cell_type": "code",
   "execution_count": 93,
   "metadata": {},
   "outputs": [
    {
     "name": "stdout",
     "output_type": "stream",
     "text": [
      "<class 'pandas.core.frame.DataFrame'>\n",
      "RangeIndex: 1000163 entries, 0 to 1000162\n",
      "Data columns (total 5 columns):\n",
      " #   Column                       Non-Null Count    Dtype  \n",
      "---  ------                       --------------    -----  \n",
      " 0   geolocation_zip_code_prefix  1000163 non-null  int64  \n",
      " 1   geolocation_lat              1000163 non-null  float64\n",
      " 2   geolocation_lng              1000163 non-null  float64\n",
      " 3   geolocation_city             1000163 non-null  object \n",
      " 4   geolocation_state            1000163 non-null  object \n",
      "dtypes: float64(2), int64(1), object(2)\n",
      "memory usage: 38.2+ MB\n"
     ]
    }
   ],
   "source": [
    "geolocation_dataset.info()"
   ]
  },
  {
   "cell_type": "code",
   "execution_count": 94,
   "metadata": {},
   "outputs": [
    {
     "data": {
      "text/plain": [
       "geolocation_zip_code_prefix    0\n",
       "geolocation_lat                0\n",
       "geolocation_lng                0\n",
       "geolocation_city               0\n",
       "geolocation_state              0\n",
       "dtype: int64"
      ]
     },
     "execution_count": 94,
     "metadata": {},
     "output_type": "execute_result"
    }
   ],
   "source": [
    "geolocation_dataset.isnull().sum().sort_values(ascending=False)\n"
   ]
  },
  {
   "cell_type": "code",
   "execution_count": 95,
   "metadata": {},
   "outputs": [
    {
     "name": "stdout",
     "output_type": "stream",
     "text": [
      "total duplicate value:261831\n"
     ]
    }
   ],
   "source": [
    "duplicate_value=geolocation_dataset.duplicated()\n",
    "print(f\"total duplicate value:{duplicate_value.sum()}\")"
   ]
  },
  {
   "cell_type": "markdown",
   "metadata": {},
   "source": [
    "**Cleaning the data**"
   ]
  },
  {
   "cell_type": "markdown",
   "metadata": {},
   "source": [
    "Handling format data type\n"
   ]
  },
  {
   "cell_type": "code",
   "execution_count": 97,
   "metadata": {},
   "outputs": [],
   "source": [
    "\n",
    "# Change the customer_zip_code_prefix attribute to string\n",
    "customer_dataset[\"customer_zip_code_prefix\"] = customer_dataset[\n",
    "    \"customer_zip_code_prefix\"\n",
    "].astype(str)\n",
    "#doing this because generally zip code is in str format not in integer format \n"
   ]
  },
  {
   "cell_type": "markdown",
   "metadata": {},
   "source": [
    "**Cleaning the orders table**\n"
   ]
  },
  {
   "cell_type": "markdown",
   "metadata": {},
   "source": [
    "Handling format datatype \n"
   ]
  },
  {
   "cell_type": "code",
   "execution_count": 107,
   "metadata": {},
   "outputs": [],
   "source": [
    "def convert_to_datetime(dataFrame, columns):\n",
    "    for column in columns:\n",
    "        dataFrame[column] = pd.to_datetime(dataFrame[column]).dt.date"
   ]
  },
  {
   "cell_type": "code",
   "execution_count": null,
   "metadata": {},
   "outputs": [
    {
     "name": "stdout",
     "output_type": "stream",
     "text": [
      "Index(['order_id', 'customer_id', 'order_status', 'order_purchase_timestamp',\n",
      "       'order_approved_at', 'order_delivered_carrier_date',\n",
      "       'order_delivered_customer_date', 'order_estimated_delivery_date'],\n",
      "      dtype='object')\n"
     ]
    }
   ],
   "source": [
    "\n",
    "convert_to_datetime(\n",
    "    olist_orders_dataset,\n",
    "    [\n",
    "        \"order_purchase_timestamp\",\n",
    "        \"order_delivered_customer_date\",\n",
    "        \"order_estimated_delivery_date\"\n",
    "    ]\n",
    ")\n"
   ]
  },
  {
   "cell_type": "code",
   "execution_count": 110,
   "metadata": {},
   "outputs": [],
   "source": [
    "#orders placed according to the timestamp\n",
    "olist_orders_dataset.sort_values(by=['order_purchase_timestamp'],inplace=True)"
   ]
  },
  {
   "cell_type": "markdown",
   "metadata": {},
   "source": [
    "**HANDLING THE MISSING VALUES**"
   ]
  },
  {
   "cell_type": "code",
   "execution_count": 114,
   "metadata": {},
   "outputs": [
    {
     "data": {
      "text/plain": [
       "order_delivered_customer_date    2.981668\n",
       "order_delivered_carrier_date     1.793023\n",
       "order_approved_at                0.160899\n",
       "order_id                         0.000000\n",
       "order_purchase_timestamp         0.000000\n",
       "order_status                     0.000000\n",
       "customer_id                      0.000000\n",
       "order_estimated_delivery_date    0.000000\n",
       "dtype: float64"
      ]
     },
     "execution_count": 114,
     "metadata": {},
     "output_type": "execute_result"
    }
   ],
   "source": [
    "missing_percentage_per_col=olist_orders_dataset.isnull().mean()*100\n",
    "missing_percentage_per_col.sort_values(ascending=False)"
   ]
  },
  {
   "cell_type": "code",
   "execution_count": 115,
   "metadata": {},
   "outputs": [],
   "source": [
    "olist_orders_dataset.drop(olist_orders_dataset.index[:3], inplace=True)"
   ]
  },
  {
   "cell_type": "code",
   "execution_count": 116,
   "metadata": {},
   "outputs": [],
   "source": [
    "olist_orders_dataset[\"order_delivered_customer_date\"] = olist_orders_dataset[\n",
    "    \"order_delivered_customer_date\"\n",
    "].ffill()"
   ]
  },
  {
   "cell_type": "code",
   "execution_count": 117,
   "metadata": {},
   "outputs": [],
   "source": [
    "olist_orders_dataset['date_ordinal']=olist_orders_dataset['order_purchase_timestamp'].apply(lambda x:x.toordinal())"
   ]
  },
  {
   "cell_type": "markdown",
   "metadata": {},
   "source": [
    "- Difference between estimated delivery date and true delivery date (shipping_time_delta)\n",
    "- Difference between order date and delivery date (shipping_duration)\n",
    "- Difference between order date and estimated delivery date (estimated_duration)"
   ]
  },
  {
   "cell_type": "code",
   "execution_count": 121,
   "metadata": {},
   "outputs": [],
   "source": [
    "\n",
    "convert_to_datetime(\n",
    "    olist_orders_dataset,\n",
    "    [\n",
    "        \"order_estimated_delivery_date\",\n",
    "        \"order_delivered_customer_date\",\n",
    "        \"order_purchase_timestamp\"\n",
    "    ]\n",
    ")\n"
   ]
  },
  {
   "cell_type": "code",
   "execution_count": 122,
   "metadata": {},
   "outputs": [],
   "source": [
    "olist_orders_dataset[\"shipping_time\"] = (\n",
    "    olist_orders_dataset[\"order_estimated_delivery_date\"]\n",
    "    - olist_orders_dataset[\"order_delivered_customer_date\"]\n",
    ")\n",
    "\n",
    "# Create shipping duration column, which is the difference between the order delivered customer date and the order purchase timestamp\n",
    "olist_orders_dataset[\"shipping_duration\"] = (\n",
    "    olist_orders_dataset[\"order_delivered_customer_date\"] - olist_orders_dataset[\"order_purchase_timestamp\"]\n",
    ")\n",
    "\n",
    "# Create estimated duration column, which is the difference between the order estimated delivery date and the order purchase timestamp\n",
    "olist_orders_dataset[\"estimated_duration\"] = (\n",
    "    olist_orders_dataset[\"order_estimated_delivery_date\"] - olist_orders_dataset[\"order_purchase_timestamp\"]\n",
    ")"
   ]
  },
  {
   "cell_type": "code",
   "execution_count": 123,
   "metadata": {},
   "outputs": [
    {
     "name": "stdout",
     "output_type": "stream",
     "text": [
      "Number of unique orders:99438\n",
      "Number of rows in the dataset:99438\n"
     ]
    }
   ],
   "source": [
    "#checking if there are repeating orders\n",
    "print(f\"Number of unique orders:{olist_orders_dataset['order_id'].nunique()}\")\n",
    "print(f\"Number of rows in the dataset:{olist_orders_dataset.shape[0]}\")"
   ]
  },
  {
   "cell_type": "markdown",
   "metadata": {},
   "source": []
  },
  {
   "cell_type": "markdown",
   "metadata": {},
   "source": [
    "Cleaning the order items table "
   ]
  },
  {
   "cell_type": "markdown",
   "metadata": {},
   "source": [
    "Handling format data type"
   ]
  },
  {
   "cell_type": "code",
   "execution_count": 125,
   "metadata": {},
   "outputs": [],
   "source": [
    "order_items_dataset['order_item_id']=order_items_dataset['order_item_id'].astype(str)\n"
   ]
  },
  {
   "cell_type": "markdown",
   "metadata": {},
   "source": [
    "Handling Outliers"
   ]
  },
  {
   "cell_type": "code",
   "execution_count": 126,
   "metadata": {},
   "outputs": [
    {
     "data": {
      "text/plain": [
       "count    112650.000000\n",
       "mean        120.653739\n",
       "std         183.633928\n",
       "min           0.850000\n",
       "25%          39.900000\n",
       "50%          74.990000\n",
       "75%         134.900000\n",
       "max        6735.000000\n",
       "Name: price, dtype: float64"
      ]
     },
     "execution_count": 126,
     "metadata": {},
     "output_type": "execute_result"
    }
   ],
   "source": [
    "#checking the statistics of the price attribute before removing outliers\n",
    "order_items_dataset['price'].describe()"
   ]
  },
  {
   "cell_type": "code",
   "execution_count": 129,
   "metadata": {},
   "outputs": [
    {
     "data": {
      "image/png": "[encoded data removed]",
      "text/plain": [
       "<Figure size 1200x600 with 1 Axes>"
      ]
     },
     "metadata": {},
     "output_type": "display_data"
    }
   ],
   "source": [
    "#plot a boxplot to visualize the outliers\n",
    "plt.figure(figsize=(12,6))\n",
    "sns.boxplot(x=order_items_dataset['price'])\n",
    "plt.title('Boxplot of Price')\n",
    "plt.show()\n"
   ]
  },
  {
   "cell_type": "code",
   "execution_count": 130,
   "metadata": {},
   "outputs": [
    {
     "data": {
      "text/plain": [
       "<Axes: xlabel='price', ylabel='Count'>"
      ]
     },
     "execution_count": 130,
     "metadata": {},
     "output_type": "execute_result"
    },
    {
     "data": {
      "image/png": "[encoded data removed]",
      "text/plain": [
       "<Figure size 640x480 with 1 Axes>"
      ]
     },
     "metadata": {},
     "output_type": "display_data"
    }
   ],
   "source": [
    "sns.histplot(order_items_dataset['price'],bins=100,kde=True)"
   ]
  },
  {
   "cell_type": "code",
   "execution_count": 135,
   "metadata": {},
   "outputs": [],
   "source": [
    "# now i am using the iqr method to remove the outliers because the data is positively skewed\n",
    "def removing_outlier_iqr(dataframe,column):\n",
    "    Q1=dataframe[column].quantile(0.25)\n",
    "    Q3=dataframe[column].quantile(0.75)\n",
    "    IQR=Q3-Q1\n",
    "    Lower_bound=Q1-1.5*IQR\n",
    "    upper_bound=Q3+1.5*IQR\n",
    "    dataframe=dataframe[(dataframe[column]>Lower_bound) & (dataframe[column]<upper_bound)]\n",
    "    return dataframe\n",
    "\n",
    "order_items_dataset=removing_outlier_iqr(order_items_dataset,'price')\n"
   ]
  },
  {
   "cell_type": "code",
   "execution_count": 136,
   "metadata": {},
   "outputs": [
    {
     "data": {
      "text/plain": [
       "<Axes: xlabel='price', ylabel='Count'>"
      ]
     },
     "execution_count": 136,
     "metadata": {},
     "output_type": "execute_result"
    },
    {
     "data": {
      "image/png": "[encoded data removed]",
      "text/plain": [
       "<Figure size 640x480 with 1 Axes>"
      ]
     },
     "metadata": {},
     "output_type": "display_data"
    }
   ],
   "source": [
    "#after removing the outlier\n",
    "sns.histplot(order_items_dataset['price'],bins=100,kde=True)"
   ]
  },
  {
   "cell_type": "code",
   "execution_count": 133,
   "metadata": {},
   "outputs": [
    {
     "data": {
      "image/png": "[encoded data removed]",
      "text/plain": [
       "<Figure size 1200x600 with 1 Axes>"
      ]
     },
     "metadata": {},
     "output_type": "display_data"
    }
   ],
   "source": [
    "#handling outliers of the freight value attribute \n",
    "#handling outliers of the freight value attribute\n",
    "#calculate q1,q3 and iqr\n",
    "plt.figure(figsize=(12,6))\n",
    "sns.boxplot(x=order_items_dataset['freight_value'])\n",
    "plt.title('Boxplot of Freight Value')\n",
    "plt.show()"
   ]
  },
  {
   "cell_type": "code",
   "execution_count": 138,
   "metadata": {},
   "outputs": [],
   "source": [
    "order_items_dataset=removing_outlier_iqr(order_items_dataset,'freight_value')\n"
   ]
  },
  {
   "cell_type": "code",
   "execution_count": 139,
   "metadata": {},
   "outputs": [
    {
     "data": {
      "image/png": "[encoded data removed]",
      "text/plain": [
       "<Figure size 1200x600 with 1 Axes>"
      ]
     },
     "metadata": {},
     "output_type": "display_data"
    }
   ],
   "source": [
    "plt.figure(figsize=(12,6))\n",
    "sns.boxplot(x=order_items_dataset['freight_value'])\n",
    "plt.title('Boxplot of Freight Value')\n",
    "plt.show()"
   ]
  },
  {
   "cell_type": "code",
   "execution_count": 140,
   "metadata": {},
   "outputs": [
    {
     "data": {
      "text/plain": [
       "(array([  35.,   61.,   43.,   24.,   34.,   36.,   32.,   41.,   44.,\n",
       "          31.,   41.,   60.,   19.,   45., 2052.,  851., 3262.,  683.,\n",
       "        1190.,  436., 1474., 1054.,  855., 1348.,  460.,  396.,  303.,\n",
       "         115.,  140.,   82.,  904.,  536.,  294.,  948., 2777.,  761.,\n",
       "         966., 1284., 2125., 1181.,  999., 1668., 1478.,  886., 3231.,\n",
       "        1762.,  942.,  731., 6349., 2105., 1532., 1428., 2439., 1809.,\n",
       "        1029., 2095., 1161., 1331.,  692., 2331., 1890., 1363., 3416.,\n",
       "        1261., 1017.,  975., 1057., 1052.,  847.,  723.,  480.,  328.,\n",
       "         300.,  501.,  905.,  612.,  532.,  349.,  532.,  552.,  305.,\n",
       "         340.,  638.,  683.,  837.,  567.,  394.,  331.,  184.,  156.,\n",
       "         178.,  382.,  284.,  260.,  667.,  289.,  196.,  239.,  257.,\n",
       "         228.]),\n",
       " array([ 4.07  ,  4.2978,  4.5256,  4.7534,  4.9812,  5.209 ,  5.4368,\n",
       "         5.6646,  5.8924,  6.1202,  6.348 ,  6.5758,  6.8036,  7.0314,\n",
       "         7.2592,  7.487 ,  7.7148,  7.9426,  8.1704,  8.3982,  8.626 ,\n",
       "         8.8538,  9.0816,  9.3094,  9.5372,  9.765 ,  9.9928, 10.2206,\n",
       "        10.4484, 10.6762, 10.904 , 11.1318, 11.3596, 11.5874, 11.8152,\n",
       "        12.043 , 12.2708, 12.4986, 12.7264, 12.9542, 13.182 , 13.4098,\n",
       "        13.6376, 13.8654, 14.0932, 14.321 , 14.5488, 14.7766, 15.0044,\n",
       "        15.2322, 15.46  , 15.6878, 15.9156, 16.1434, 16.3712, 16.599 ,\n",
       "        16.8268, 17.0546, 17.2824, 17.5102, 17.738 , 17.9658, 18.1936,\n",
       "        18.4214, 18.6492, 18.877 , 19.1048, 19.3326, 19.5604, 19.7882,\n",
       "        20.016 , 20.2438, 20.4716, 20.6994, 20.9272, 21.155 , 21.3828,\n",
       "        21.6106, 21.8384, 22.0662, 22.294 , 22.5218, 22.7496, 22.9774,\n",
       "        23.2052, 23.433 , 23.6608, 23.8886, 24.1164, 24.3442, 24.572 ,\n",
       "        24.7998, 25.0276, 25.2554, 25.4832, 25.711 , 25.9388, 26.1666,\n",
       "        26.3944, 26.6222, 26.85  ]),\n",
       " <BarContainer object of 100 artists>)"
      ]
     },
     "execution_count": 140,
     "metadata": {},
     "output_type": "execute_result"
    },
    {
     "data": {
      "image/png": "[encoded data removed]",
      "text/plain": [
       "<Figure size 640x480 with 1 Axes>"
      ]
     },
     "metadata": {},
     "output_type": "display_data"
    }
   ],
   "source": [
    "plt.hist(order_items_dataset['freight_value'],bins=100)"
   ]
  },
  {
   "cell_type": "markdown",
   "metadata": {},
   "source": [
    "Transform the order_item_id into qty to extract unit-per-order line profile"
   ]
  },
  {
   "cell_type": "code",
   "execution_count": 144,
   "metadata": {},
   "outputs": [
    {
     "data": {
      "text/html": [
       "<div>\n",
       "<style scoped>\n",
       "    .dataframe tbody tr th:only-of-type {\n",
       "        vertical-align: middle;\n",
       "    }\n",
       "\n",
       "    .dataframe tbody tr th {\n",
       "        vertical-align: top;\n",
       "    }\n",
       "\n",
       "    .dataframe thead th {\n",
       "        text-align: right;\n",
       "    }\n",
       "</style>\n",
       "<table border=\"1\" class=\"dataframe\">\n",
       "  <thead>\n",
       "    <tr style=\"text-align: right;\">\n",
       "      <th></th>\n",
       "      <th>product_id</th>\n",
       "      <th>order_id</th>\n",
       "      <th>order_item_id</th>\n",
       "      <th>seller_id</th>\n",
       "      <th>shipping_limit_date</th>\n",
       "      <th>price</th>\n",
       "      <th>freight_value</th>\n",
       "    </tr>\n",
       "  </thead>\n",
       "  <tbody>\n",
       "    <tr>\n",
       "      <th>0</th>\n",
       "      <td>00066f42aeeb9f3007548bb9d3f33c38</td>\n",
       "      <td>f30149f4a8882a08895b6a242aa0d612</td>\n",
       "      <td>1</td>\n",
       "      <td>5670f4db5b62c43d542e1b2d56b0cf7c</td>\n",
       "      <td>2018-05-24 18:58:59</td>\n",
       "      <td>101.65</td>\n",
       "      <td>18.59</td>\n",
       "    </tr>\n",
       "    <tr>\n",
       "      <th>1</th>\n",
       "      <td>00088930e925c41fd95ebfe695fd2655</td>\n",
       "      <td>f5eda0ded77c1293b04c953138c8331d</td>\n",
       "      <td>1</td>\n",
       "      <td>7142540dd4c91e2237acb7e911c4eba2</td>\n",
       "      <td>2017-12-18 19:32:19</td>\n",
       "      <td>129.90</td>\n",
       "      <td>13.93</td>\n",
       "    </tr>\n",
       "    <tr>\n",
       "      <th>2</th>\n",
       "      <td>0009406fd7479715e4bef61dd91f2462</td>\n",
       "      <td>0bf736fd0fd5169d60de3699fcbcf986</td>\n",
       "      <td>1</td>\n",
       "      <td>4a3ca9315b744ce9f8e9374361493884</td>\n",
       "      <td>2017-12-29 16:12:36</td>\n",
       "      <td>229.00</td>\n",
       "      <td>13.10</td>\n",
       "    </tr>\n",
       "    <tr>\n",
       "      <th>3</th>\n",
       "      <td>000b8f95fcb9e0096488278317764d19</td>\n",
       "      <td>3aba44d8e554ab4bb8c09f6f78032ca8</td>\n",
       "      <td>1</td>\n",
       "      <td>40ec8ab6cdafbcc4f544da38c67da39a</td>\n",
       "      <td>2018-08-16 13:35:21</td>\n",
       "      <td>58.90</td>\n",
       "      <td>19.60</td>\n",
       "    </tr>\n",
       "    <tr>\n",
       "      <th>4</th>\n",
       "      <td>000b8f95fcb9e0096488278317764d19</td>\n",
       "      <td>6f0dfb5b5398b271cc6bbd9ee263530e</td>\n",
       "      <td>1</td>\n",
       "      <td>40ec8ab6cdafbcc4f544da38c67da39a</td>\n",
       "      <td>2018-08-07 22:15:19</td>\n",
       "      <td>58.90</td>\n",
       "      <td>19.60</td>\n",
       "    </tr>\n",
       "    <tr>\n",
       "      <th>...</th>\n",
       "      <td>...</td>\n",
       "      <td>...</td>\n",
       "      <td>...</td>\n",
       "      <td>...</td>\n",
       "      <td>...</td>\n",
       "      <td>...</td>\n",
       "      <td>...</td>\n",
       "    </tr>\n",
       "    <tr>\n",
       "      <th>80607</th>\n",
       "      <td>fffdb2d0ec8d6a61f0a0a0db3f25b441</td>\n",
       "      <td>2878b4e373a9556df9aa1708a4e5c3c8</td>\n",
       "      <td>1</td>\n",
       "      <td>9f505651f4a6abe901a56cdc21508025</td>\n",
       "      <td>2018-08-09 16:55:38</td>\n",
       "      <td>34.99</td>\n",
       "      <td>7.51</td>\n",
       "    </tr>\n",
       "    <tr>\n",
       "      <th>80608</th>\n",
       "      <td>fffdb2d0ec8d6a61f0a0a0db3f25b441</td>\n",
       "      <td>a8159270bc9cf7d54450e079ba6b7232</td>\n",
       "      <td>1</td>\n",
       "      <td>9f505651f4a6abe901a56cdc21508025</td>\n",
       "      <td>2018-04-09 05:35:27</td>\n",
       "      <td>29.99</td>\n",
       "      <td>18.23</td>\n",
       "    </tr>\n",
       "    <tr>\n",
       "      <th>80609</th>\n",
       "      <td>fffdb2d0ec8d6a61f0a0a0db3f25b441</td>\n",
       "      <td>beaf95465b542dea76df78b2fb86a97a</td>\n",
       "      <td>1</td>\n",
       "      <td>9f505651f4a6abe901a56cdc21508025</td>\n",
       "      <td>2018-04-25 10:30:35</td>\n",
       "      <td>34.99</td>\n",
       "      <td>18.23</td>\n",
       "    </tr>\n",
       "    <tr>\n",
       "      <th>80610</th>\n",
       "      <td>fffdb2d0ec8d6a61f0a0a0db3f25b441</td>\n",
       "      <td>d6c1ed12e8eeaa15e9d5c83c79598f85</td>\n",
       "      <td>1</td>\n",
       "      <td>9f505651f4a6abe901a56cdc21508025</td>\n",
       "      <td>2018-08-14 17:25:18</td>\n",
       "      <td>34.99</td>\n",
       "      <td>7.51</td>\n",
       "    </tr>\n",
       "    <tr>\n",
       "      <th>80611</th>\n",
       "      <td>fffdb2d0ec8d6a61f0a0a0db3f25b441</td>\n",
       "      <td>dd38c566a34ff9deb93ff05d7bd6d0aa</td>\n",
       "      <td>1</td>\n",
       "      <td>9f505651f4a6abe901a56cdc21508025</td>\n",
       "      <td>2018-05-07 17:53:01</td>\n",
       "      <td>34.99</td>\n",
       "      <td>7.39</td>\n",
       "    </tr>\n",
       "  </tbody>\n",
       "</table>\n",
       "<p>80612 rows × 7 columns</p>\n",
       "</div>"
      ],
      "text/plain": [
       "                             product_id                          order_id  \\\n",
       "0      00066f42aeeb9f3007548bb9d3f33c38  f30149f4a8882a08895b6a242aa0d612   \n",
       "1      00088930e925c41fd95ebfe695fd2655  f5eda0ded77c1293b04c953138c8331d   \n",
       "2      0009406fd7479715e4bef61dd91f2462  0bf736fd0fd5169d60de3699fcbcf986   \n",
       "3      000b8f95fcb9e0096488278317764d19  3aba44d8e554ab4bb8c09f6f78032ca8   \n",
       "4      000b8f95fcb9e0096488278317764d19  6f0dfb5b5398b271cc6bbd9ee263530e   \n",
       "...                                 ...                               ...   \n",
       "80607  fffdb2d0ec8d6a61f0a0a0db3f25b441  2878b4e373a9556df9aa1708a4e5c3c8   \n",
       "80608  fffdb2d0ec8d6a61f0a0a0db3f25b441  a8159270bc9cf7d54450e079ba6b7232   \n",
       "80609  fffdb2d0ec8d6a61f0a0a0db3f25b441  beaf95465b542dea76df78b2fb86a97a   \n",
       "80610  fffdb2d0ec8d6a61f0a0a0db3f25b441  d6c1ed12e8eeaa15e9d5c83c79598f85   \n",
       "80611  fffdb2d0ec8d6a61f0a0a0db3f25b441  dd38c566a34ff9deb93ff05d7bd6d0aa   \n",
       "\n",
       "       order_item_id                         seller_id  shipping_limit_date  \\\n",
       "0                  1  5670f4db5b62c43d542e1b2d56b0cf7c  2018-05-24 18:58:59   \n",
       "1                  1  7142540dd4c91e2237acb7e911c4eba2  2017-12-18 19:32:19   \n",
       "2                  1  4a3ca9315b744ce9f8e9374361493884  2017-12-29 16:12:36   \n",
       "3                  1  40ec8ab6cdafbcc4f544da38c67da39a  2018-08-16 13:35:21   \n",
       "4                  1  40ec8ab6cdafbcc4f544da38c67da39a  2018-08-07 22:15:19   \n",
       "...              ...                               ...                  ...   \n",
       "80607              1  9f505651f4a6abe901a56cdc21508025  2018-08-09 16:55:38   \n",
       "80608              1  9f505651f4a6abe901a56cdc21508025  2018-04-09 05:35:27   \n",
       "80609              1  9f505651f4a6abe901a56cdc21508025  2018-04-25 10:30:35   \n",
       "80610              1  9f505651f4a6abe901a56cdc21508025  2018-08-14 17:25:18   \n",
       "80611              1  9f505651f4a6abe901a56cdc21508025  2018-05-07 17:53:01   \n",
       "\n",
       "        price  freight_value  \n",
       "0      101.65          18.59  \n",
       "1      129.90          13.93  \n",
       "2      229.00          13.10  \n",
       "3       58.90          19.60  \n",
       "4       58.90          19.60  \n",
       "...       ...            ...  \n",
       "80607   34.99           7.51  \n",
       "80608   29.99          18.23  \n",
       "80609   34.99          18.23  \n",
       "80610   34.99           7.51  \n",
       "80611   34.99           7.39  \n",
       "\n",
       "[80612 rows x 7 columns]"
      ]
     },
     "execution_count": 144,
     "metadata": {},
     "output_type": "execute_result"
    }
   ],
   "source": [
    "order_items_consolidated_df = (\n",
    "    order_items_dataset.groupby(by=[\"product_id\", \"order_id\"])\n",
    "    .agg(\n",
    "        {\n",
    "            \"order_item_id\": \"count\",\n",
    "            \"seller_id\": \"first\",\n",
    "            \"shipping_limit_date\": \"first\",\n",
    "            \"price\": \"first\",\n",
    "            \"freight_value\": \"first\",\n",
    "        }\n",
    "    )\n",
    "    \n",
    ").reset_index()\n",
    "\n",
    "order_items_consolidated_df\n"
   ]
  },
  {
   "cell_type": "code",
   "execution_count": null,
   "metadata": {},
   "outputs": [
    {
     "data": {
      "text/html": [
       "<div>\n",
       "<style scoped>\n",
       "    .dataframe tbody tr th:only-of-type {\n",
       "        vertical-align: middle;\n",
       "    }\n",
       "\n",
       "    .dataframe tbody tr th {\n",
       "        vertical-align: top;\n",
       "    }\n",
       "\n",
       "    .dataframe thead th {\n",
       "        text-align: right;\n",
       "    }\n",
       "</style>\n",
       "<table border=\"1\" class=\"dataframe\">\n",
       "  <thead>\n",
       "    <tr style=\"text-align: right;\">\n",
       "      <th></th>\n",
       "      <th>product_id</th>\n",
       "      <th>order_id</th>\n",
       "      <th>order_item_id</th>\n",
       "      <th>seller_id</th>\n",
       "      <th>shipping_limit_date</th>\n",
       "      <th>price</th>\n",
       "      <th>freight_value</th>\n",
       "    </tr>\n",
       "  </thead>\n",
       "  <tbody>\n",
       "    <tr>\n",
       "      <th>0</th>\n",
       "      <td>00066f42aeeb9f3007548bb9d3f33c38</td>\n",
       "      <td>f30149f4a8882a08895b6a242aa0d612</td>\n",
       "      <td>1</td>\n",
       "      <td>5670f4db5b62c43d542e1b2d56b0cf7c</td>\n",
       "      <td>2018-05-24 18:58:59</td>\n",
       "      <td>101.65</td>\n",
       "      <td>18.59</td>\n",
       "    </tr>\n",
       "    <tr>\n",
       "      <th>1</th>\n",
       "      <td>00088930e925c41fd95ebfe695fd2655</td>\n",
       "      <td>f5eda0ded77c1293b04c953138c8331d</td>\n",
       "      <td>1</td>\n",
       "      <td>7142540dd4c91e2237acb7e911c4eba2</td>\n",
       "      <td>2017-12-18 19:32:19</td>\n",
       "      <td>129.90</td>\n",
       "      <td>13.93</td>\n",
       "    </tr>\n",
       "    <tr>\n",
       "      <th>2</th>\n",
       "      <td>0009406fd7479715e4bef61dd91f2462</td>\n",
       "      <td>0bf736fd0fd5169d60de3699fcbcf986</td>\n",
       "      <td>1</td>\n",
       "      <td>4a3ca9315b744ce9f8e9374361493884</td>\n",
       "      <td>2017-12-29 16:12:36</td>\n",
       "      <td>229.00</td>\n",
       "      <td>13.10</td>\n",
       "    </tr>\n",
       "    <tr>\n",
       "      <th>3</th>\n",
       "      <td>000b8f95fcb9e0096488278317764d19</td>\n",
       "      <td>3aba44d8e554ab4bb8c09f6f78032ca8</td>\n",
       "      <td>1</td>\n",
       "      <td>40ec8ab6cdafbcc4f544da38c67da39a</td>\n",
       "      <td>2018-08-16 13:35:21</td>\n",
       "      <td>58.90</td>\n",
       "      <td>19.60</td>\n",
       "    </tr>\n",
       "    <tr>\n",
       "      <th>4</th>\n",
       "      <td>000b8f95fcb9e0096488278317764d19</td>\n",
       "      <td>6f0dfb5b5398b271cc6bbd9ee263530e</td>\n",
       "      <td>1</td>\n",
       "      <td>40ec8ab6cdafbcc4f544da38c67da39a</td>\n",
       "      <td>2018-08-07 22:15:19</td>\n",
       "      <td>58.90</td>\n",
       "      <td>19.60</td>\n",
       "    </tr>\n",
       "    <tr>\n",
       "      <th>...</th>\n",
       "      <td>...</td>\n",
       "      <td>...</td>\n",
       "      <td>...</td>\n",
       "      <td>...</td>\n",
       "      <td>...</td>\n",
       "      <td>...</td>\n",
       "      <td>...</td>\n",
       "    </tr>\n",
       "    <tr>\n",
       "      <th>80607</th>\n",
       "      <td>fffdb2d0ec8d6a61f0a0a0db3f25b441</td>\n",
       "      <td>2878b4e373a9556df9aa1708a4e5c3c8</td>\n",
       "      <td>1</td>\n",
       "      <td>9f505651f4a6abe901a56cdc21508025</td>\n",
       "      <td>2018-08-09 16:55:38</td>\n",
       "      <td>34.99</td>\n",
       "      <td>7.51</td>\n",
       "    </tr>\n",
       "    <tr>\n",
       "      <th>80608</th>\n",
       "      <td>fffdb2d0ec8d6a61f0a0a0db3f25b441</td>\n",
       "      <td>a8159270bc9cf7d54450e079ba6b7232</td>\n",
       "      <td>1</td>\n",
       "      <td>9f505651f4a6abe901a56cdc21508025</td>\n",
       "      <td>2018-04-09 05:35:27</td>\n",
       "      <td>29.99</td>\n",
       "      <td>18.23</td>\n",
       "    </tr>\n",
       "    <tr>\n",
       "      <th>80609</th>\n",
       "      <td>fffdb2d0ec8d6a61f0a0a0db3f25b441</td>\n",
       "      <td>beaf95465b542dea76df78b2fb86a97a</td>\n",
       "      <td>1</td>\n",
       "      <td>9f505651f4a6abe901a56cdc21508025</td>\n",
       "      <td>2018-04-25 10:30:35</td>\n",
       "      <td>34.99</td>\n",
       "      <td>18.23</td>\n",
       "    </tr>\n",
       "    <tr>\n",
       "      <th>80610</th>\n",
       "      <td>fffdb2d0ec8d6a61f0a0a0db3f25b441</td>\n",
       "      <td>d6c1ed12e8eeaa15e9d5c83c79598f85</td>\n",
       "      <td>1</td>\n",
       "      <td>9f505651f4a6abe901a56cdc21508025</td>\n",
       "      <td>2018-08-14 17:25:18</td>\n",
       "      <td>34.99</td>\n",
       "      <td>7.51</td>\n",
       "    </tr>\n",
       "    <tr>\n",
       "      <th>80611</th>\n",
       "      <td>fffdb2d0ec8d6a61f0a0a0db3f25b441</td>\n",
       "      <td>dd38c566a34ff9deb93ff05d7bd6d0aa</td>\n",
       "      <td>1</td>\n",
       "      <td>9f505651f4a6abe901a56cdc21508025</td>\n",
       "      <td>2018-05-07 17:53:01</td>\n",
       "      <td>34.99</td>\n",
       "      <td>7.39</td>\n",
       "    </tr>\n",
       "  </tbody>\n",
       "</table>\n",
       "<p>80612 rows × 7 columns</p>\n",
       "</div>"
      ],
      "text/plain": [
       "                             product_id                          order_id  \\\n",
       "0      00066f42aeeb9f3007548bb9d3f33c38  f30149f4a8882a08895b6a242aa0d612   \n",
       "1      00088930e925c41fd95ebfe695fd2655  f5eda0ded77c1293b04c953138c8331d   \n",
       "2      0009406fd7479715e4bef61dd91f2462  0bf736fd0fd5169d60de3699fcbcf986   \n",
       "3      000b8f95fcb9e0096488278317764d19  3aba44d8e554ab4bb8c09f6f78032ca8   \n",
       "4      000b8f95fcb9e0096488278317764d19  6f0dfb5b5398b271cc6bbd9ee263530e   \n",
       "...                                 ...                               ...   \n",
       "80607  fffdb2d0ec8d6a61f0a0a0db3f25b441  2878b4e373a9556df9aa1708a4e5c3c8   \n",
       "80608  fffdb2d0ec8d6a61f0a0a0db3f25b441  a8159270bc9cf7d54450e079ba6b7232   \n",
       "80609  fffdb2d0ec8d6a61f0a0a0db3f25b441  beaf95465b542dea76df78b2fb86a97a   \n",
       "80610  fffdb2d0ec8d6a61f0a0a0db3f25b441  d6c1ed12e8eeaa15e9d5c83c79598f85   \n",
       "80611  fffdb2d0ec8d6a61f0a0a0db3f25b441  dd38c566a34ff9deb93ff05d7bd6d0aa   \n",
       "\n",
       "       order_item_id                         seller_id  shipping_limit_date  \\\n",
       "0                  1  5670f4db5b62c43d542e1b2d56b0cf7c  2018-05-24 18:58:59   \n",
       "1                  1  7142540dd4c91e2237acb7e911c4eba2  2017-12-18 19:32:19   \n",
       "2                  1  4a3ca9315b744ce9f8e9374361493884  2017-12-29 16:12:36   \n",
       "3                  1  40ec8ab6cdafbcc4f544da38c67da39a  2018-08-16 13:35:21   \n",
       "4                  1  40ec8ab6cdafbcc4f544da38c67da39a  2018-08-07 22:15:19   \n",
       "...              ...                               ...                  ...   \n",
       "80607              1  9f505651f4a6abe901a56cdc21508025  2018-08-09 16:55:38   \n",
       "80608              1  9f505651f4a6abe901a56cdc21508025  2018-04-09 05:35:27   \n",
       "80609              1  9f505651f4a6abe901a56cdc21508025  2018-04-25 10:30:35   \n",
       "80610              1  9f505651f4a6abe901a56cdc21508025  2018-08-14 17:25:18   \n",
       "80611              1  9f505651f4a6abe901a56cdc21508025  2018-05-07 17:53:01   \n",
       "\n",
       "        price  freight_value  \n",
       "0      101.65          18.59  \n",
       "1      129.90          13.93  \n",
       "2      229.00          13.10  \n",
       "3       58.90          19.60  \n",
       "4       58.90          19.60  \n",
       "...       ...            ...  \n",
       "80607   34.99           7.51  \n",
       "80608   29.99          18.23  \n",
       "80609   34.99          18.23  \n",
       "80610   34.99           7.51  \n",
       "80611   34.99           7.39  \n",
       "\n",
       "[80612 rows x 7 columns]"
      ]
     },
     "execution_count": 146,
     "metadata": {},
     "output_type": "execute_result"
    }
   ],
   "source": [
    "order_items_consolidated_df"
   ]
  },
  {
   "cell_type": "code",
   "execution_count": 149,
   "metadata": {},
   "outputs": [
    {
     "name": "stdout",
     "output_type": "stream",
     "text": [
      "Orders in new table: 78106\n",
      "Orders in old table: 78106\n",
      "SKUs in new table: 26088\n",
      "SKUs in old table: 26088\n",
      "Total quantity in new table: 89128\n",
      "Total quantity in old table: 89128\n"
     ]
    }
   ],
   "source": [
    "print(f\"Orders in new table: {order_items_consolidated_df['order_id'].nunique()}\")\n",
    "print(f\"Orders in old table: {order_items_dataset['order_id'].nunique()}\")\n",
    "print(f\"SKUs in new table: {order_items_consolidated_df['product_id'].nunique()}\")\n",
    "print(f\"SKUs in old table: {order_items_dataset['product_id'].nunique()}\")\n",
    "print(\n",
    "    f\"Total quantity in new table: {order_items_consolidated_df['order_item_id'].sum()}\"\n",
    ")\n",
    "print(f\"Total quantity in old table: {len(order_items_dataset['order_item_id'])}\")"
   ]
  },
  {
   "cell_type": "code",
   "execution_count": 150,
   "metadata": {},
   "outputs": [
    {
     "data": {
      "text/html": [
       "<div>\n",
       "<style scoped>\n",
       "    .dataframe tbody tr th:only-of-type {\n",
       "        vertical-align: middle;\n",
       "    }\n",
       "\n",
       "    .dataframe tbody tr th {\n",
       "        vertical-align: top;\n",
       "    }\n",
       "\n",
       "    .dataframe thead th {\n",
       "        text-align: right;\n",
       "    }\n",
       "</style>\n",
       "<table border=\"1\" class=\"dataframe\">\n",
       "  <thead>\n",
       "    <tr style=\"text-align: right;\">\n",
       "      <th></th>\n",
       "      <th>product_id</th>\n",
       "      <th>order_id</th>\n",
       "      <th>qty</th>\n",
       "      <th>seller_id</th>\n",
       "      <th>shipping_limit_date</th>\n",
       "      <th>price</th>\n",
       "      <th>freight_value</th>\n",
       "    </tr>\n",
       "  </thead>\n",
       "  <tbody>\n",
       "    <tr>\n",
       "      <th>0</th>\n",
       "      <td>00066f42aeeb9f3007548bb9d3f33c38</td>\n",
       "      <td>f30149f4a8882a08895b6a242aa0d612</td>\n",
       "      <td>1</td>\n",
       "      <td>5670f4db5b62c43d542e1b2d56b0cf7c</td>\n",
       "      <td>2018-05-24 18:58:59</td>\n",
       "      <td>101.65</td>\n",
       "      <td>18.59</td>\n",
       "    </tr>\n",
       "    <tr>\n",
       "      <th>1</th>\n",
       "      <td>00088930e925c41fd95ebfe695fd2655</td>\n",
       "      <td>f5eda0ded77c1293b04c953138c8331d</td>\n",
       "      <td>1</td>\n",
       "      <td>7142540dd4c91e2237acb7e911c4eba2</td>\n",
       "      <td>2017-12-18 19:32:19</td>\n",
       "      <td>129.90</td>\n",
       "      <td>13.93</td>\n",
       "    </tr>\n",
       "    <tr>\n",
       "      <th>2</th>\n",
       "      <td>0009406fd7479715e4bef61dd91f2462</td>\n",
       "      <td>0bf736fd0fd5169d60de3699fcbcf986</td>\n",
       "      <td>1</td>\n",
       "      <td>4a3ca9315b744ce9f8e9374361493884</td>\n",
       "      <td>2017-12-29 16:12:36</td>\n",
       "      <td>229.00</td>\n",
       "      <td>13.10</td>\n",
       "    </tr>\n",
       "    <tr>\n",
       "      <th>3</th>\n",
       "      <td>000b8f95fcb9e0096488278317764d19</td>\n",
       "      <td>3aba44d8e554ab4bb8c09f6f78032ca8</td>\n",
       "      <td>1</td>\n",
       "      <td>40ec8ab6cdafbcc4f544da38c67da39a</td>\n",
       "      <td>2018-08-16 13:35:21</td>\n",
       "      <td>58.90</td>\n",
       "      <td>19.60</td>\n",
       "    </tr>\n",
       "    <tr>\n",
       "      <th>4</th>\n",
       "      <td>000b8f95fcb9e0096488278317764d19</td>\n",
       "      <td>6f0dfb5b5398b271cc6bbd9ee263530e</td>\n",
       "      <td>1</td>\n",
       "      <td>40ec8ab6cdafbcc4f544da38c67da39a</td>\n",
       "      <td>2018-08-07 22:15:19</td>\n",
       "      <td>58.90</td>\n",
       "      <td>19.60</td>\n",
       "    </tr>\n",
       "    <tr>\n",
       "      <th>...</th>\n",
       "      <td>...</td>\n",
       "      <td>...</td>\n",
       "      <td>...</td>\n",
       "      <td>...</td>\n",
       "      <td>...</td>\n",
       "      <td>...</td>\n",
       "      <td>...</td>\n",
       "    </tr>\n",
       "    <tr>\n",
       "      <th>80607</th>\n",
       "      <td>fffdb2d0ec8d6a61f0a0a0db3f25b441</td>\n",
       "      <td>2878b4e373a9556df9aa1708a4e5c3c8</td>\n",
       "      <td>1</td>\n",
       "      <td>9f505651f4a6abe901a56cdc21508025</td>\n",
       "      <td>2018-08-09 16:55:38</td>\n",
       "      <td>34.99</td>\n",
       "      <td>7.51</td>\n",
       "    </tr>\n",
       "    <tr>\n",
       "      <th>80608</th>\n",
       "      <td>fffdb2d0ec8d6a61f0a0a0db3f25b441</td>\n",
       "      <td>a8159270bc9cf7d54450e079ba6b7232</td>\n",
       "      <td>1</td>\n",
       "      <td>9f505651f4a6abe901a56cdc21508025</td>\n",
       "      <td>2018-04-09 05:35:27</td>\n",
       "      <td>29.99</td>\n",
       "      <td>18.23</td>\n",
       "    </tr>\n",
       "    <tr>\n",
       "      <th>80609</th>\n",
       "      <td>fffdb2d0ec8d6a61f0a0a0db3f25b441</td>\n",
       "      <td>beaf95465b542dea76df78b2fb86a97a</td>\n",
       "      <td>1</td>\n",
       "      <td>9f505651f4a6abe901a56cdc21508025</td>\n",
       "      <td>2018-04-25 10:30:35</td>\n",
       "      <td>34.99</td>\n",
       "      <td>18.23</td>\n",
       "    </tr>\n",
       "    <tr>\n",
       "      <th>80610</th>\n",
       "      <td>fffdb2d0ec8d6a61f0a0a0db3f25b441</td>\n",
       "      <td>d6c1ed12e8eeaa15e9d5c83c79598f85</td>\n",
       "      <td>1</td>\n",
       "      <td>9f505651f4a6abe901a56cdc21508025</td>\n",
       "      <td>2018-08-14 17:25:18</td>\n",
       "      <td>34.99</td>\n",
       "      <td>7.51</td>\n",
       "    </tr>\n",
       "    <tr>\n",
       "      <th>80611</th>\n",
       "      <td>fffdb2d0ec8d6a61f0a0a0db3f25b441</td>\n",
       "      <td>dd38c566a34ff9deb93ff05d7bd6d0aa</td>\n",
       "      <td>1</td>\n",
       "      <td>9f505651f4a6abe901a56cdc21508025</td>\n",
       "      <td>2018-05-07 17:53:01</td>\n",
       "      <td>34.99</td>\n",
       "      <td>7.39</td>\n",
       "    </tr>\n",
       "  </tbody>\n",
       "</table>\n",
       "<p>80612 rows × 7 columns</p>\n",
       "</div>"
      ],
      "text/plain": [
       "                             product_id                          order_id  \\\n",
       "0      00066f42aeeb9f3007548bb9d3f33c38  f30149f4a8882a08895b6a242aa0d612   \n",
       "1      00088930e925c41fd95ebfe695fd2655  f5eda0ded77c1293b04c953138c8331d   \n",
       "2      0009406fd7479715e4bef61dd91f2462  0bf736fd0fd5169d60de3699fcbcf986   \n",
       "3      000b8f95fcb9e0096488278317764d19  3aba44d8e554ab4bb8c09f6f78032ca8   \n",
       "4      000b8f95fcb9e0096488278317764d19  6f0dfb5b5398b271cc6bbd9ee263530e   \n",
       "...                                 ...                               ...   \n",
       "80607  fffdb2d0ec8d6a61f0a0a0db3f25b441  2878b4e373a9556df9aa1708a4e5c3c8   \n",
       "80608  fffdb2d0ec8d6a61f0a0a0db3f25b441  a8159270bc9cf7d54450e079ba6b7232   \n",
       "80609  fffdb2d0ec8d6a61f0a0a0db3f25b441  beaf95465b542dea76df78b2fb86a97a   \n",
       "80610  fffdb2d0ec8d6a61f0a0a0db3f25b441  d6c1ed12e8eeaa15e9d5c83c79598f85   \n",
       "80611  fffdb2d0ec8d6a61f0a0a0db3f25b441  dd38c566a34ff9deb93ff05d7bd6d0aa   \n",
       "\n",
       "       qty                         seller_id  shipping_limit_date   price  \\\n",
       "0        1  5670f4db5b62c43d542e1b2d56b0cf7c  2018-05-24 18:58:59  101.65   \n",
       "1        1  7142540dd4c91e2237acb7e911c4eba2  2017-12-18 19:32:19  129.90   \n",
       "2        1  4a3ca9315b744ce9f8e9374361493884  2017-12-29 16:12:36  229.00   \n",
       "3        1  40ec8ab6cdafbcc4f544da38c67da39a  2018-08-16 13:35:21   58.90   \n",
       "4        1  40ec8ab6cdafbcc4f544da38c67da39a  2018-08-07 22:15:19   58.90   \n",
       "...    ...                               ...                  ...     ...   \n",
       "80607    1  9f505651f4a6abe901a56cdc21508025  2018-08-09 16:55:38   34.99   \n",
       "80608    1  9f505651f4a6abe901a56cdc21508025  2018-04-09 05:35:27   29.99   \n",
       "80609    1  9f505651f4a6abe901a56cdc21508025  2018-04-25 10:30:35   34.99   \n",
       "80610    1  9f505651f4a6abe901a56cdc21508025  2018-08-14 17:25:18   34.99   \n",
       "80611    1  9f505651f4a6abe901a56cdc21508025  2018-05-07 17:53:01   34.99   \n",
       "\n",
       "       freight_value  \n",
       "0              18.59  \n",
       "1              13.93  \n",
       "2              13.10  \n",
       "3              19.60  \n",
       "4              19.60  \n",
       "...              ...  \n",
       "80607           7.51  \n",
       "80608          18.23  \n",
       "80609          18.23  \n",
       "80610           7.51  \n",
       "80611           7.39  \n",
       "\n",
       "[80612 rows x 7 columns]"
      ]
     },
     "execution_count": 150,
     "metadata": {},
     "output_type": "execute_result"
    }
   ],
   "source": [
    "order_items_consolidated_df.rename(columns={\"order_item_id\":\"qty\"},inplace=True)\n",
    "order_items_consolidated_df"
   ]
  },
  {
   "cell_type": "markdown",
   "metadata": {},
   "source": [
    "Change the order payment table\n",
    "1.removing the outlier "
   ]
  },
  {
   "cell_type": "code",
   "execution_count": null,
   "metadata": {},
   "outputs": [],
   "source": []
  },
  {
   "cell_type": "markdown",
   "metadata": {},
   "source": [
    "Cleaning the order payment table "
   ]
  }
 ],
 "metadata": {
  "kernelspec": {
   "display_name": "Python 3",
   "language": "python",
   "name": "python3"
  },
  "language_info": {
   "codemirror_mode": {
    "name": "ipython",
    "version": 3
   },
   "file_extension": ".py",
   "mimetype": "text/x-python",
   "name": "python",
   "nbconvert_exporter": "python",
   "pygments_lexer": "ipython3",
   "version": "3.10.12"
  }
 },
 "nbformat": 4,
 "nbformat_minor": 2
}
