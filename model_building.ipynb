{
 "cells": [
  {
   "cell_type": "code",
   "execution_count": 33,
   "metadata": {},
   "outputs": [],
   "source": [
    "import pandas as pd \n",
    "import numpy as np \n",
    "import matplotlib.pyplot as plt \n",
    "import seaborn as sns \n",
    "from sklearn.model_selection import train_test_split\n",
    "import sklearn.linear_model as lm \n",
    "from sklearn.metrics import r2_score,accuracy_score,mean_squared_error,confusion_matrix,classification_report\n",
    "from sklearn.preprocessing import StandardScaler\n",
    "from sklearn.decomposition import PCA\n",
    "from sklearn.pipeline import make_pipeline\n",
    "from sklearn.cluster import KMeans \n",
    "import xgboost as xgb\n",
    "from scipy import stats\n",
    "from sklearn.impute import SimpleImputer\n"
   ]
  },
  {
   "cell_type": "code",
   "execution_count": 11,
   "metadata": {},
   "outputs": [],
   "source": [
    "def df_summary(df):\n",
    "    print(f\"Dataset Shape: {df.shape}\")\n",
    "    \n",
    "    summary = pd.DataFrame(df.dtypes, columns=['dtypes'])\n",
    "    summary = summary.reset_index()\n",
    "    summary['Column'] = summary['index']\n",
    "    summary = summary[['Column', 'dtypes']]\n",
    "    \n",
    "    summary['#Missing'] = df.isnull().sum().values\n",
    "    summary['#Unique'] = df.nunique().values\n",
    "    summary['Example'] = df.loc[0].values\n",
    "    \n",
    "    # Calculate entropy for each column\n",
    "    for name in summary['Column'].value_counts().index:\n",
    "        summary.loc[summary['Column'] == name, 'Entropy'] = round(stats.entropy(df[name].value_counts(normalize=True), base=2), 2)\n",
    "    \n",
    "    \n",
    "     # Create a separate DataFrame for numerical statistics\n",
    "    numerical_cols = df.select_dtypes(include=['number']).columns\n",
    "    numerical_summary = pd.DataFrame(index=numerical_cols)\n",
    "    numerical_summary['Mean'] = df[numerical_cols].mean()\n",
    "    numerical_summary['Median'] = df[numerical_cols].median()\n",
    "    numerical_summary['StdDev'] = df[numerical_cols].std()\n",
    "    numerical_summary['Min'] = df[numerical_cols].min()\n",
    "    numerical_summary['Max'] = df[numerical_cols].max()\n",
    "    \n",
    "    # Merge numerical statistics with the summary DataFrame\n",
    "    summary = summary.merge(numerical_summary, left_on='Column', right_index=True, how='left')\n",
    "    \n",
    "   \n",
    "    \n",
    "    \n",
    "    return summary\n"
   ]
  },
  {
   "cell_type": "markdown",
   "metadata": {},
   "source": [
    "**Models**\n",
    "\n",
    "After doing all the hard work preparing data, I finally get to the exciting part of building models. In this section, I mainly focus on predicting ratings (review scores), which is a scalar score given by customers to indicate their level of satisfaction with orders. \n",
    "\n",
    "In predicting ratings, I have two setups:\n",
    "1. Predicting ratings without knowing the review text.\n",
    "2. Predicting ratings given the review text. *(For future work)*\n",
    "\n",
    "*For now, I will only focus on the first part.*"
   ]
  },
  {
   "cell_type": "code",
   "execution_count": 12,
   "metadata": {},
   "outputs": [],
   "source": [
    "df=pd.read_pickle(\"preprocessing_dataset.pickle\")\n",
    "\n"
   ]
  },
  {
   "cell_type": "code",
   "execution_count": 13,
   "metadata": {},
   "outputs": [],
   "source": [
    "seed=42"
   ]
  },
  {
   "cell_type": "markdown",
   "metadata": {},
   "source": [
    "**Hypothesis:** Right now I am assuming the relationship between the features and the target variable is linear (review_score_factor)."
   ]
  },
  {
   "cell_type": "markdown",
   "metadata": {},
   "source": [
    "###  Linear Regression\n",
    "\n",
    "In this section, I perform a simple Linear Regression on the `feature_df` for the purpose of predicting the review score. After selecting the attributes as features and the `review_score` column as the label, I split the data into training and testing sets with a size of 80% and 20%, respectively."
   ]
  },
  {
   "cell_type": "code",
   "execution_count": null,
   "metadata": {},
   "outputs": [],
   "source": [
    "rating = df['review_score_factor']\n",
    "\n",
    "drop_columns = ['order_id', 'customer_id', 'order_status', 'order_purchase_timestamp', 'order_approved_at', 'order_delivered_carrier_date', \\\n",
    "                'order_delivered_customer_date', 'order_estimated_delivery_date', 'review_id', 'review_comment_title', 'review_score', \\\n",
    "                'review_creation_date', 'review_comment_message', 'review_answer_timestamp', 'payment_sequential', 'payment_type', 'customer_unique_id', \\\n",
    "                'customer_zip_code_prefix', 'customer_city', 'customer_state', 'order_item_id', 'product_id', 'seller_id', 'shipping_limit_date', 'price', \\\n",
    "                'freight_value', 'product_category_name','product_length_cm', 'product_height_cm','product_width_cm', \\\n",
    "                'seller_zip_code_prefix', 'seller_city', 'seller_state', 'review_score_factor']\n",
    "\n",
    "feature = df.drop(drop_columns, axis=1)\n"
   ]
  },
  {
   "cell_type": "code",
   "execution_count": 34,
   "metadata": {},
   "outputs": [
    {
     "name": "stdout",
     "output_type": "stream",
     "text": [
      "payment_installments                              0\n",
      "payment_value                                     0\n",
      "product_name_length                               0\n",
      "product_description_length                        0\n",
      "product_photos_qty                                0\n",
      "                                                 ..\n",
      "product_category_name_sinalizacao_e_seguranca     0\n",
      "product_category_name_tablets_impressao_imagem    0\n",
      "product_category_name_telefonia                   0\n",
      "product_category_name_telefonia_fixa              0\n",
      "product_category_name_utilidades_domesticas       0\n",
      "Length: 134, dtype: int64\n"
     ]
    }
   ],
   "source": [
    "\n",
    "# Select only the delivery-related columns\n",
    "delivery_cols = ['delivery_duration', 'actual_est_delivery_diff']\n",
    "\n",
    "# Apply median imputation\n",
    "imputer = SimpleImputer(strategy='median')\n",
    "feature[delivery_cols] = imputer.fit_transform(feature[delivery_cols])\n",
    "\n",
    "# Check if missing values are removed\n",
    "print(feature.isnull().sum().sort_values(ascending=False))  # Should be all zeros for delivery columns\n"
   ]
  },
  {
   "cell_type": "code",
   "execution_count": 35,
   "metadata": {},
   "outputs": [],
   "source": [
    "x_train_lr, x_test_lr, y_train_lr, y_test_lr = train_test_split(feature, rating, test_size = 0.2, random_state = seed)\n"
   ]
  },
  {
   "cell_type": "code",
   "execution_count": 36,
   "metadata": {},
   "outputs": [
    {
     "name": "stdout",
     "output_type": "stream",
     "text": [
      "delivery_duration          -0.269920\n",
      "actual_est_delivery_diff    0.202235\n",
      "dtype: float64\n"
     ]
    }
   ],
   "source": [
    "print(x_train_lr[['delivery_duration', 'actual_est_delivery_diff']].corrwith(y_train_lr))\n"
   ]
  },
  {
   "cell_type": "code",
   "execution_count": 37,
   "metadata": {},
   "outputs": [
    {
     "name": "stdout",
     "output_type": "stream",
     "text": [
      "The R2 score in this linear regression model is 0.13543\n",
      "The RMSE in this linear regression model is 0.69411, which is about 49.0% of the mean rating score.\n"
     ]
    }
   ],
   "source": [
    "reg = lm.LinearRegression().fit(x_train_lr, y_train_lr)\n",
    "\n",
    "# Use the model to predict on the test set and save these predictions as `y_pred_lr`\n",
    "y_pred_lr = reg.predict(x_test_lr)\n",
    "\n",
    "# Find the R-squared score and store the value in `score`\n",
    "score = reg.score(x_test_lr, y_test_lr)\n",
    "rmse_lr = np.sqrt(mean_squared_error(y_test_lr.values, y_pred_lr))\n",
    "\n",
    "print(f'The R2 score in this linear regression model is {round(score, 5)}')\n",
    "print(f'The RMSE in this linear regression model is {round(rmse_lr, 5)}, which is about {100*round(rmse_lr/np.mean(rating),2)}% of \\\n",
    "the mean rating score.')\n"
   ]
  },
  {
   "cell_type": "markdown",
   "metadata": {},
   "source": [
    "### Model Performance Interpretation\n",
    "\n",
    "#### 🔹 R² Score: 0.13543\n",
    "The R-squared (R²) score measures how well our model explains the variance in `review_score`. It ranges from 0 to 1, where:\n",
    "\n",
    "- **1.0** → Perfect fit (model explains 100% of the variance).\n",
    "- **0.0** → Model explains nothing (no better than predicting the average rating).\n",
    "- **Negative** → Model performs worse than a simple average prediction.\n",
    "\n",
    "📌 With R² = 0.13543, our model explains only ~13.54% of the variation in `review_score`, meaning most of the factors influencing review scores are not captured by the model.\n",
    "\n",
    "#### 🔹 Root Mean Squared Error (RMSE): 0.69411\n",
    "RMSE measures the average magnitude of prediction errors. Since `review_score` is likely on a 1 to 5 scale, an RMSE of 0.69411 means that, on average, our predictions deviate by ~0.69 points from actual review scores."
   ]
  },
  {
   "cell_type": "markdown",
   "metadata": {},
   "source": [
    "### Ridge Regression"
   ]
  },
  {
   "cell_type": "code",
   "execution_count": 39,
   "metadata": {},
   "outputs": [
    {
     "name": "stdout",
     "output_type": "stream",
     "text": [
      "40.41\n"
     ]
    }
   ],
   "source": [
    "lambdas=np.linspace(0.01,100,100)\n",
    "ridgecv=lm.RidgeCV(alphas=lambdas,scoring='neg_mean_squared_error')\n",
    "ridgecv.fit(x_train_lr,y_train_lr)\n",
    "ridge_select=ridgecv.alpha_\n",
    "print(ridge_select)"
   ]
  },
  {
   "cell_type": "code",
   "execution_count": 42,
   "metadata": {},
   "outputs": [
    {
     "name": "stdout",
     "output_type": "stream",
     "text": [
      "The R2 score in this ridge regression model is 0.1355041059365949\n",
      "The RMSE in this ridge regression model is 0.69408, which is about 49.0% of the mean rating score.\n"
     ]
    }
   ],
   "source": [
    "reg_ridge=lm.Ridge(alpha=ridge_select)\n",
    "reg_ridge.fit(x_train_lr,y_train_lr)\n",
    "y_pred_lr=reg_ridge.predict(x_test_lr)\n",
    "ridge_score = reg_ridge.score(x_test_lr, y_test_lr)\n",
    "ridge_rmse_lr = np.sqrt(mean_squared_error(y_test_lr.values, y_pred_lr))\n",
    "\n",
    "print(f'The R2 score in this ridge regression model is {ridge_score}')\n",
    "print(f'The RMSE in this ridge regression model is {round(ridge_rmse_lr, 5)}, which is about {100*round(ridge_rmse_lr/np.mean(rating),2)}% of \\\n",
    "the mean rating score.')"
   ]
  },
  {
   "cell_type": "markdown",
   "metadata": {},
   "source": [
    "Not much difference"
   ]
  },
  {
   "cell_type": "markdown",
   "metadata": {},
   "source": [
    "### Lasso Regression"
   ]
  },
  {
   "cell_type": "code",
   "execution_count": 43,
   "metadata": {},
   "outputs": [
    {
     "name": "stderr",
     "output_type": "stream",
     "text": [
      "/home/hasanksi255/.local/lib/python3.10/site-packages/sklearn/linear_model/_coordinate_descent.py:681: ConvergenceWarning: Objective did not converge. You might want to increase the number of iterations. Duality gap: 83.12477322833001, tolerance: 4.168810991149256\n",
      "  model = cd_fast.enet_coordinate_descent_gram(\n"
     ]
    }
   ],
   "source": [
    "lambdas=np.linspace(0.00001,0.001,100)\n",
    "lassocv=lm.LassoCV(alphas=lambdas)\n",
    "lassocv.fit(x_train_lr,y_train_lr)\n",
    "lassocv_select=lassocv.alpha_"
   ]
  },
  {
   "cell_type": "code",
   "execution_count": 44,
   "metadata": {},
   "outputs": [
    {
     "name": "stdout",
     "output_type": "stream",
     "text": [
      "The R2 score in this lasso regression model is 0.13555660483423904\n",
      "The RMSE in this lasso regression model is 0.69406, which is about 49.0% of the mean rating score.\n"
     ]
    }
   ],
   "source": [
    "reg_lasso = lm.Lasso(alpha=lassocv_select)\n",
    "reg_lasso.fit(x_train_lr, y_train_lr)\n",
    "\n",
    "# Use the model to predict on the test set and save these predictions as `y_pred`\n",
    "y_pred_lr = reg_lasso.predict(x_test_lr)\n",
    "\n",
    "# Find the R-squared score and store the value in `ridge_score`\n",
    "lasso_score = reg_lasso.score(x_test_lr, y_test_lr)\n",
    "lasso_rmse_lr = np.sqrt(mean_squared_error(y_test_lr.values, y_pred_lr))\n",
    "\n",
    "print(f'The R2 score in this lasso regression model is {lasso_score}')\n",
    "print(f'The RMSE in this lasso regression model is {round(lasso_rmse_lr, 5)}, which is about {100*round(lasso_rmse_lr/np.mean(rating),2)}% of \\\n",
    "the mean rating score.')"
   ]
  },
  {
   "cell_type": "code",
   "execution_count": null,
   "metadata": {},
   "outputs": [],
   "source": []
  },
  {
   "cell_type": "markdown",
   "metadata": {},
   "source": [
    "### Logistic Regression(classifier)"
   ]
  },
  {
   "cell_type": "code",
   "execution_count": 57,
   "metadata": {},
   "outputs": [],
   "source": [
    "df.loc[df['review_score_factor']==2,\"review_score_factor_boolean\"]=1.0\n",
    "df.loc[df['review_score_factor']<2,\"review_score_factor_boolean\"]=0.0\n",
    "labels=df['review_score_factor_boolean']\n",
    "drop_columns_log=drop_columns\n",
    "drop_columns_log.append('review_score_factor_boolean')\n",
    "features=df.drop(drop_columns_log,axis=1)\n",
    "imputer = SimpleImputer(strategy='median')\n",
    "features[delivery_cols] = imputer.fit_transform(features[delivery_cols])\n",
    "combined_df=pd.concat([features,labels],axis=1)\n"
   ]
  },
  {
   "cell_type": "code",
   "execution_count": 58,
   "metadata": {},
   "outputs": [],
   "source": [
    "x_train,x_test,y_train,y_test=train_test_split(features,labels,random_state=42,test_size=0.2)\n"
   ]
  },
  {
   "cell_type": "code",
   "execution_count": null,
   "metadata": {},
   "outputs": [
    {
     "name": "stdout",
     "output_type": "stream",
     "text": [
      "3800\n",
      "0\n"
     ]
    }
   ],
   "source": []
  },
  {
   "cell_type": "code",
   "execution_count": 49,
   "metadata": {},
   "outputs": [],
   "source": [
    "import time "
   ]
  },
  {
   "cell_type": "code",
   "execution_count": null,
   "metadata": {},
   "outputs": [
    {
     "name": "stdout",
     "output_type": "stream",
     "text": [
      "Time used for Logistic Regression: 62.45671 sec\n",
      "\n",
      "The test accuracy is 0.63039\n"
     ]
    },
    {
     "name": "stderr",
     "output_type": "stream",
     "text": [
      "/home/hasanksi255/.local/lib/python3.10/site-packages/sklearn/linear_model/_logistic.py:465: ConvergenceWarning: lbfgs failed to converge (status=1):\n",
      "STOP: TOTAL NO. OF ITERATIONS REACHED LIMIT.\n",
      "\n",
      "Increase the number of iterations (max_iter) or scale the data as shown in:\n",
      "    https://scikit-learn.org/stable/modules/preprocessing.html\n",
      "Please also refer to the documentation for alternative solver options:\n",
      "    https://scikit-learn.org/stable/modules/linear_model.html#logistic-regression\n",
      "  n_iter_i = _check_optimize_result(\n"
     ]
    }
   ],
   "source": [
    "start = time.time()\n",
    "\n",
    "\n",
    "logreg = lm.LogisticRegression(penalty='l2', max_iter=1000)\n",
    "\n",
    "\n",
    "logreg.fit(x_train, y_train)\n",
    "\n",
    "\n",
    "pred1 = logreg.predict(x_test)\n",
    "\n",
    "end = time.time()\n",
    "\n",
    "\n",
    "print(f\"Time used for Logistic Regression: {end - start:.5f} sec\\n\")\n",
    "\n",
    "\n",
    "log_acc = accuracy_score(y_test, pred1)\n",
    "print(f'The test accuracy is {round(log_acc, 5)}')"
   ]
  },
  {
   "cell_type": "markdown",
   "metadata": {},
   "source": [
    "### Analysis on Logistic Regression model"
   ]
  },
  {
   "cell_type": "code",
   "execution_count": 61,
   "metadata": {},
   "outputs": [
    {
     "data": {
      "image/png": "[encoded data removed]",
      "text/plain": [
       "<Figure size 640x480 with 2 Axes>"
      ]
     },
     "metadata": {},
     "output_type": "display_data"
    }
   ],
   "source": [
    "fig = sns.heatmap(confusion_matrix(y_test, pred1) / len(y_test), annot=True, fmt='.2%', cmap='Blues')\n",
    "fig.axes.xaxis.set_ticks_position(\"top\")\n"
   ]
  },
  {
   "cell_type": "code",
   "execution_count": 62,
   "metadata": {},
   "outputs": [
    {
     "name": "stdout",
     "output_type": "stream",
     "text": [
      "              precision    recall  f1-score   support\n",
      "\n",
      "         0.0       0.64      0.34      0.44     10022\n",
      "         1.0       0.63      0.85      0.72     13105\n",
      "\n",
      "    accuracy                           0.63     23127\n",
      "   macro avg       0.63      0.60      0.58     23127\n",
      "weighted avg       0.63      0.63      0.60     23127\n",
      "\n"
     ]
    }
   ],
   "source": [
    "print(classification_report(y_test,pred1))"
   ]
  },
  {
   "cell_type": "markdown",
   "metadata": {},
   "source": [
    "### Logistic Regression with PCA\n",
    "\n",
    "In order to get rid of any feature redundancies and remove the noise, PCA is used before building a Logistic Regression model. While reducing the dimensionality of a dataset, the overall interpretability of the data can be increased.\n",
    "\n",
    "The cutoff line, 0.9, is selected for choosing the proper number of components. In other words, we want our training features to collectively explain 90% of the variance.\n"
   ]
  },
  {
   "cell_type": "code",
   "execution_count": 63,
   "metadata": {},
   "outputs": [],
   "source": [
    "scaler=StandardScaler()\n",
    "x_train_sc=scaler.fit_transform(x_train)\n",
    "x_test_sc=scaler.transform(x_test)\n",
    "pca=PCA(n_components=x_train_sc.shape[1])\n",
    "x_train_pca=pca.fit_transform(x_train_sc)\n",
    "x_test_pca=pca.transform(x_test_sc)"
   ]
  },
  {
   "cell_type": "code",
   "execution_count": 64,
   "metadata": {},
   "outputs": [
    {
     "data": {
      "image/png": "[encoded data removed]",
      "text/plain": [
       "<Figure size 800x600 with 1 Axes>"
      ]
     },
     "metadata": {},
     "output_type": "display_data"
    },
    {
     "name": "stdout",
     "output_type": "stream",
     "text": [
      "We first surpass 90% explained variance with 112 components.\n"
     ]
    }
   ],
   "source": [
    "cum_expl_var_ratios_lr = np.cumsum(pca.explained_variance_ratio_)\n",
    "\n",
    "plt.figure(figsize=(8, 6))\n",
    "plt.plot(np.arange(1, len(cum_expl_var_ratios_lr)+1), cum_expl_var_ratios_lr)\n",
    "plt.plot(np.arange(1, len(cum_expl_var_ratios_lr)+1), [0.90]*len(cum_expl_var_ratios_lr))\n",
    "plt.ylabel(\"Explained Variance Ratio\")\n",
    "plt.xlabel(\"# of Components\")\n",
    "plt.title(\"# of Components vs. Explained Variance Ratio\")\n",
    "plt.grid(False)\n",
    "plt.show()\n",
    "\n",
    "for i in range(len(cum_expl_var_ratios_lr)):\n",
    "  if cum_expl_var_ratios_lr[i] >= 0.90:\n",
    "    print(\"We first surpass 90% explained variance with \" + str(i + 1) + \" components.\")\n",
    "    break"
   ]
  },
  {
   "cell_type": "code",
   "execution_count": 65,
   "metadata": {},
   "outputs": [
    {
     "name": "stdout",
     "output_type": "stream",
     "text": [
      "The test accuracy is 0.62749\n",
      "The R2 score is -0.51699.\n",
      "The RMSE score is 0.61033.\n"
     ]
    }
   ],
   "source": [
    "pca = PCA(n_components = 111)\n",
    "\n",
    "x_train_pca = pca.fit_transform(x_train_sc)\n",
    "x_test_pca = pca.transform(x_test_sc)\n",
    "\n",
    "log_reg_pca = lm.LogisticRegression()\n",
    "log_reg_pca.fit(x_train_pca, y_train)\n",
    "\n",
    "# Use the model to predict on the PCA transformed test set and save these predictions as `y_pred_pca`\n",
    "y_pred_pca = log_reg_pca.predict(x_test_pca)\n",
    "\n",
    "# Calculating test accuracy, RMSE and R2 score\n",
    "score_pca_log = r2_score(y_test.values, y_pred_pca)\n",
    "rmse_pca_log = np.sqrt(mean_squared_error(y_test.values, y_pred_pca))\n",
    "test_accuracy = log_reg_pca.score(x_test_pca, y_test)\n",
    "\n",
    "print(f'The test accuracy is {round(test_accuracy, 5)}')\n",
    "print(f'The R2 score is {round(score_pca_log, 5)}.')\n",
    "print(f'The RMSE score is {round(rmse_pca_log, 5)}.')"
   ]
  },
  {
   "cell_type": "markdown",
   "metadata": {},
   "source": [
    "If I look at the test accuracy, I can see that there isn't an improvement in the model after applying PCA. This suggests that there isn't collinearity between the variables or noise that might negatively impact the model's performance.\n",
    "\n",
    "From the models above, I noticed that the relationship between the features and rating scores is probably non-linear, which explains the relatively low R² score from the previous models. However, the score from logistic regression can be used as a baseline for further training.\n",
    "\n",
    "### Why can logistic regression be used as a baseline?\n",
    "\n",
    "Logistic regression is a simple yet effective model that helps establish a benchmark for classification tasks. It assumes a linear relationship between the independent variables (features) and the log-odds of the dependent variable (target). If logistic regression provides a reasonable accuracy, more complex models like decision trees, random forests, or neural networks can be compared against it to check for improvements. If a more complex model doesn't significantly outperform logistic regression, it may indicate that the dataset lacks enough non-linearity to justify using a more advanced approach."
   ]
  },
  {
   "cell_type": "markdown",
   "metadata": {},
   "source": [
    "### Linear Classifiers with Stochastic Gradient Descent Training\n",
    "\n",
    "Stochastic Gradient Descent (SGD) is a simple yet very efficient approach to fitting linear classifiers and regressors under convex loss functions. By applying SGD, the model will have better efficiency. In this section, different loss functions are tried to explore the corresponding accuracy and time spent for them.\n"
   ]
  },
  {
   "cell_type": "code",
   "execution_count": null,
   "metadata": {},
   "outputs": [],
   "source": []
  }
 ],
 "metadata": {
  "kernelspec": {
   "display_name": "Python 3",
   "language": "python",
   "name": "python3"
  },
  "language_info": {
   "codemirror_mode": {
    "name": "ipython",
    "version": 3
   },
   "file_extension": ".py",
   "mimetype": "text/x-python",
   "name": "python",
   "nbconvert_exporter": "python",
   "pygments_lexer": "ipython3",
   "version": "3.10.12"
  }
 },
 "nbformat": 4,
 "nbformat_minor": 2
}
